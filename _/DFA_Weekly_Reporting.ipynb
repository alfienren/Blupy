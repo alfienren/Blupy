{
 "metadata": {
  "name": "",
  "signature": "sha256:c32d4be3f819f2772487cf91451e2f6dd19f7fcea09a2355a26a84ee21c046a1"
 },
 "nbformat": 3,
 "nbformat_minor": 0,
 "worksheets": [
  {
   "cells": [
    {
     "cell_type": "code",
     "collapsed": false,
     "input": [
      "import pandas as pd\n",
      "import numpy as np\n",
      "from xlwings import Workbook, Range\n",
      "import re\n",
      "import itertools"
     ],
     "language": "python",
     "metadata": {},
     "outputs": [],
     "prompt_number": 3
    },
    {
     "cell_type": "code",
     "collapsed": false,
     "input": [
      "wb = Workbook(\"C:/Users/aarschle1/Google Drive/Optimedia/T-Mobile/Projects/Weekly_Reporting/Opti_DFA_Weekly_Reporting.xlsm\")"
     ],
     "language": "python",
     "metadata": {},
     "outputs": [],
     "prompt_number": 4
    },
    {
     "cell_type": "code",
     "collapsed": false,
     "input": [
      "sa2 = pd.DataFrame(pd.read_excel(wb.fullname, 'SA_Temp', index_col = None))\n",
      "cfv2 = pd.DataFrame(pd.read_excel(wb.fullname, 'CFV_Temp', index_col = None))"
     ],
     "language": "python",
     "metadata": {},
     "outputs": [],
     "prompt_number": 5
    },
    {
     "cell_type": "code",
     "collapsed": false,
     "input": [
      "def chunk_df(df, sheet, startcell, chunk_size = 10000):\n",
      "    if len(df) <= (chunk_size + 1):\n",
      "        Range(sheet, startcell, index = False, header = True).value = df\n",
      "    else:\n",
      "        c = re.match(r\"([a-z]+)([0-9]+)\", startcell, re.I)\n",
      "        row = c.group(1)\n",
      "        col = int(c.group(2))\n",
      "        \n",
      "        for chunk in (df[rw:rw + chunk_size] for rw in \n",
      "                      range(0, len(df), chunk_size)):\n",
      "            Range(sheet, row + str(col), index = False, header = False).value = chunk\n",
      "            col += chunk_size"
     ],
     "language": "python",
     "metadata": {},
     "outputs": [],
     "prompt_number": 6
    },
    {
     "cell_type": "code",
     "collapsed": false,
     "input": [
      "sa = sa2\n",
      "cfv = cfv2"
     ],
     "language": "python",
     "metadata": {},
     "outputs": [],
     "prompt_number": 7
    },
    {
     "cell_type": "code",
     "collapsed": false,
     "input": [
      "cfv['Orders'] = 1\n",
      "cfv['Plans'] = cfv['Plan (string)'].str.count(',') + 1\n",
      "cfv['Devices'] = cfv['Device (string)'].str.count(',') + 1\n",
      "cfv['Services'] = cfv['Service (string)'].str.count(',') + 1\n",
      "cfv['Add-a-Line'] = cfv['Service (string)'].str.count('ADD')\n",
      "cfv['Accessories'] = cfv['Accessory (string)'].str.count(',') + 1\n",
      "cfv['Activations'] = cfv['Plans'] + cfv['Add-a-Line']\n",
      "\n",
      "cfv['Postpaid Plans'] = np.where(cfv['Plans'] == cfv['Devices'], cfv['Plans'], pd.concat([cfv['Plans'], cfv['Devices']], axis=1).min(axis=1))\n",
      "cfv['Prepaid Plans'] = np.where((cfv['Plans'] == 0) & (cfv['Devices'] != 0), 0, cfv['Devices'])\n",
      "\n",
      "cfv ['Orders'] = np.where((cfv['Campaign'].str.contains('DDR') == True) & (cfv['Floodlight Attribution Type'].str.contains('View-through') == True),\n",
      "                           cfv['Orders'] * 0.5, cfv['Orders'])"
     ],
     "language": "python",
     "metadata": {},
     "outputs": [],
     "prompt_number": 8
    },
    {
     "cell_type": "code",
     "collapsed": false,
     "input": [
      "appended = sa.append(cfv)"
     ],
     "language": "python",
     "metadata": {},
     "outputs": [],
     "prompt_number": 9
    },
    {
     "cell_type": "code",
     "collapsed": false,
     "input": [
      "appended['Media Cost'] = np.where(appended['DBM Cost USD'] != 0, appended['DBM Cost USD'], appended['Media Cost'])\n",
      "appended.drop('DBM Cost USD', 1, inplace = True)"
     ],
     "language": "python",
     "metadata": {},
     "outputs": [],
     "prompt_number": 10
    },
    {
     "cell_type": "code",
     "collapsed": false,
     "input": [
      "appended['Click-through URL'] = appended['Click-through URL'].str.replace('http://analytics.bluekai.com/site/', '')\n",
      "appended['Click-through URL'] = appended['Click-through URL'].str.replace('%3F%3DADV_DS_%epid!_%eaid!_%ecid!_%eadv!', '')\n",
      "appended['Click-through URL'] = appended['Click-through URL'].str.replace('15991\\?phint', '')\n",
      "appended['Click-through URL'] = appended['Click-through URL'].str.replace('http://15991\\?phint', '')\n",
      "appended['Click-through URL'] = appended['Click-through URL'].str.replace('event%3Dclick&phint', '')\n",
      "appended['Click-through URL'] = appended['Click-through URL'].str.replace('aid%3D%eadv!&phint', '')\n",
      "appended['Click-through URL'] = appended['Click-through URL'].str.replace('pid%3D%epid!&phint', '')\n",
      "appended['Click-through URL'] = appended['Click-through URL'].str.replace('cid%3D%ebuy!&phint', '')\n",
      "appended['Click-through URL'] = appended['Click-through URL'].str.replace('crid%3D%ecid!&done', '')\n",
      "appended['Click-through URL'] = appended['Click-through URL'].str.replace('pid%3D%25epid!&phint', '')\n",
      "appended['Click-through URL'] = appended['Click-through URL'].str.replace('%3D%epid!_%eaid!_%ecid!_%eadv!', '')\n",
      "appended['Click-through URL'] = appended['Click-through URL'].str.replace('%26csdids', '')\n",
      "appended['Click-through URL'] = appended['Click-through URL'].str.replace('DADV_DS_ADDDVL4Q_EMUL7Y9E1YA4116', '')\n",
      "appended['Click-through URL'] = appended['Click-through URL'].str.replace('DWTR_DD_DDRDSPLYPR_JM2694TSP3U5895', '')\n",
      "appended['Click-through URL'] = appended['Click-through URL'].str.replace('DWTR_DD_DDRFCBK_RQLMKXRCUQZ1042', '')\n",
      "appended['Click-through URL'] = appended['Click-through URL'].str.replace('%3Fcmpid%3', '')\n",
      "appended['Click-through URL'] = appended['Click-through URL'].str.replace('b/refmh_', '')\n",
      "appended['Click-through URL'] = appended['Click-through URL'].str.replace('%3Fcm_mmc%3DPurchase-_-Display-_-Revere-_-Revere', '')\n",
      "appended['Click-through URL'] = appended['Click-through URL'].str.replace('%3Fcm_mmc%3DDisplay-_-Purchase-_-GM-_-Tablet_Base', '')\n",
      "appended['Click-through URL'] = appended['Click-through URL'].str.replace('%3Fcmpid%3DWTR_DD_DDRFCBK_RQLMKXRCUQZ1042%26csdids%3D%epid!_%eaid!_%ecid!_%eadv!', '')\n",
      "appended['Click-through URL'] = appended['Click-through URL'].str.replace('%3F%26csdids%3DADV_DS_%epid!_%eaid!_%ecid!_%eadv!', '')\n",
      "appended['Click-through URL'] = appended['Click-through URL'].str.replace('%3Fcm_mmc%3DPurchase-_-Display-_-Revere-_-Revere%26csdids%3D%epid!_%eaid!_%ecid!_%eadv!', '')\n",
      "appended['Click-through URL'] = appended['Click-through URL'].str.replace('%3Fcm_mmc%3DDisplay-_-Purchase-_-GM-_-Tablet_Base%26csdids%3D%epid!_%eaid!_%ecid!_%eadv!', '')\n",
      "appended['Click-through URL'] = appended['Click-through URL'].str.replace('%3Fcmpid%3DWTR_DD_DDRDSPLYPR_JM2694TSP3U5895%26csdids%3D%epid!_%eaid!_%ecid!_%eadv!', '')\n",
      "appended['Click-through URL'] = appended['Click-through URL'].str.replace('&csdids%epid!_%eaid!_%ecid!_%eadv!', '')\n",
      "appended['Click-through URL'] = appended['Click-through URL'].str.replace('=', '')\n",
      "appended['Click-through URL'] = appended['Click-through URL'].str.replace('%2F', '/')\n",
      "appended['Click-through URL'] = appended['Click-through URL'].str.replace('%3A', ':')\n",
      "appended['Click-through URL'] = appended['Click-through URL'].str.replace('%23', '#')\n",
      "appended['Click-through URL'] = appended['Click-through URL'].apply(lambda x: str(x).split('.html')[0])\n",
      "appended['Click-through URL'] = appended['Click-through URL'].apply(lambda x: str(x).split('?')[0])\n",
      "appended['Click-through URL'] = appended['Click-through URL'].apply(lambda x: str(x).split('%')[0])"
     ],
     "language": "python",
     "metadata": {},
     "outputs": [],
     "prompt_number": 11
    },
    {
     "cell_type": "code",
     "collapsed": false,
     "input": [
      "appended = appended.groupby(['Campaign', 'Date', 'Site (DCM)', 'Creative', 'Click-through URL', 'Ad', 'Creative Groups 1',\n",
      "                             'Creative Groups 2', 'Creative ID', 'Creative Type', 'Creative Field 1', 'Placement',   \n",
      "                             'Placement Cost Structure', 'Floodlight Attribution Type', 'Activity', 'OrderNumber (string)',\n",
      "                             'Plan (string)', 'Device (string)', 'Service (string)', 'Accessory (string)'], as_index = False).aggregate(np.sum)"
     ],
     "language": "python",
     "metadata": {},
     "outputs": [],
     "prompt_number": 12
    },
    {
     "cell_type": "code",
     "collapsed": false,
     "input": [
      "appended['Plans'].fillna(0, inplace = True)\n",
      "appended['Services'].fillna(0, inplace = True)\n",
      "appended['Devices'].fillna(0, inplace = True)\n",
      "appended['Accessories'].fillna(0, inplace = True)\n",
      "appended['Orders'].fillna(0, inplace = True)"
     ],
     "language": "python",
     "metadata": {},
     "outputs": [],
     "prompt_number": 13
    },
    {
     "cell_type": "code",
     "collapsed": false,
     "input": [
      "appended['Plan (string)'] = np.where(appended['Plans'] < 1, '',\n",
      "                                     appended['Plan (string)'])\n",
      "\n",
      "appended['Service (string)'] = np.where(appended['Services'] < 1, '',\n",
      "                                       appended['Service (string)'])\n",
      "\n",
      "appended['Accessory (string)'] = np.where(appended['Accessories'] < 1, '',\n",
      "                                          appended['Accessory (string)'])\n",
      "\n",
      "appended['Device (string)'] = np.where(appended['Devices'] < 1, \"\",\n",
      "                                       appended['Device (string)'])\n",
      "\n",
      "appended['OrderNumber (string)'] = np.where(appended['Orders'] < 1, '', appended['OrderNumber (string)'])\n",
      "\n",
      "appended['Activity'] = np.where(appended['Orders'] < 1, '', appended['Activity'])\n",
      "\n",
      "appended['Floodlight Attribution Type'] = np.where(appended['Orders'] < 1, '', appended['Floodlight Attribution Type'])\n",
      "\n",
      "appended['Devices'] = np.where(appended['Device (string)'].str.contains('nan') == True, 0, appended['Devices'])"
     ],
     "language": "python",
     "metadata": {},
     "outputs": [],
     "prompt_number": 14
    },
    {
     "cell_type": "code",
     "collapsed": false,
     "input": [
      "a_actions = Range('Action_Reference', 'A2').vertical.value\n",
      "b_actions = Range('Action_Reference', 'B2').vertical.value\n",
      "c_actions = Range('Action_Reference', 'C2').vertical.value\n",
      "d_actions = Range('Action_Reference', 'D2').vertical.value\n",
      "e_actions = Range('Action_Reference', 'E2').vertical.value\n",
      "\n",
      "column_names = appended.columns\n",
      "traffic_tags = a_actions + b_actions + c_actions + d_actions + e_actions\n",
      "\n",
      "a_actions = list(set(a_actions).intersection(column_names))\n",
      "b_actions = list(set(b_actions).intersection(column_names))\n",
      "c_actions = list(set(c_actions).intersection(column_names))\n",
      "d_actions = list(set(d_actions).intersection(column_names))\n",
      "e_actions = list(set(e_actions).intersection(column_names))\n",
      "\n",
      "appended['A Actions'] = appended[a_actions].sum(axis=1)\n",
      "appended['B Actions'] = appended[b_actions].sum(axis=1)\n",
      "appended['C Actions'] = appended[c_actions].sum(axis=1)\n",
      "appended['D Actions'] = appended[d_actions].sum(axis=1)\n",
      "appended['E Actions'] = appended[e_actions].sum(axis=1)"
     ],
     "language": "python",
     "metadata": {},
     "outputs": [],
     "prompt_number": 15
    },
    {
     "cell_type": "code",
     "collapsed": false,
     "input": [
      "mobile = '|'.join(list(Range('Lookup', 'B2:B6').value))\n",
      "tablet = '|'.join(list(Range('Lookup', 'B7:B9').value))\n",
      "social = '|'.join(list(Range('Lookup', 'B10:B12').value))\n",
      "\n",
      "rm = '|'.join(list(Range('Lookup', 'D2:D5').value))\n",
      "custom = '|'.join(list(Range('Lookup', 'D6:D15').value))\n",
      "rem = '|'.join(list(Range('Lookup', 'D16:D28').value))\n",
      "\n",
      "dynamic = '|'.join(list(Range('Lookup', 'F2:F3').value))\n",
      "other_buy = '|'.join(list(Range('Lookup', 'F4').value))"
     ],
     "language": "python",
     "metadata": {},
     "outputs": [],
     "prompt_number": 18
    },
    {
     "cell_type": "code",
     "collapsed": false,
     "input": [
      "platform = np.where(appended['Placement'].str.contains(mobile) == True, 'Mobile',\n",
      "                    np.where(appended['Placement'].str.contains(tablet) == True, 'Tablet',\n",
      "                             np.where(appended['Placement'].str.contains(social) == True, 'Social', '')))\n",
      "\n",
      "creative = np.where(appended['Placement'].str.contains(rm) == True, 'Rich Media',\n",
      "                    np.where(appended['Placement'].str.contains(custom) == True, 'Custom',\n",
      "                             np.where(appended['Placement'].str.contains(rem) == True, 'Remessaging', 'Standard')))\n",
      "\n",
      "buy = np.where(appended['Placement'].str.contains(dynamic) == True, 'dCPM',\n",
      "               np.where(appended['Placement'].str.contains(other_buy), 'Flat', ''))"
     ],
     "language": "python",
     "metadata": {},
     "outputs": [],
     "prompt_number": 19
    },
    {
     "cell_type": "code",
     "collapsed": false,
     "input": [
      "view_through = []\n",
      "for item in column_names:\n",
      "    view = re.search('View-through Conversions', item)\n",
      "    if view:\n",
      "        view_through.append(item)\n",
      "\n",
      "click_through = []\n",
      "for item in column_names:\n",
      "    click = re.search('Click-through Conversions', item)\n",
      "    if click:\n",
      "        click_through.append(item)\n",
      "\n",
      "store_locator = []\n",
      "for item in column_names:\n",
      "    locator = re.search('Store Locator', item)\n",
      "    if locator:\n",
      "        store_locator.append(item)"
     ],
     "language": "python",
     "metadata": {},
     "outputs": [],
     "prompt_number": 20
    },
    {
     "cell_type": "code",
     "collapsed": false,
     "input": [
      "view_based = list(set(view_through).intersection(column_names))\n",
      "click_based = list(set(click_through).intersection(column_names))\n",
      "SLV_conversions = list(set(store_locator).intersection(column_names))"
     ],
     "language": "python",
     "metadata": {},
     "outputs": [],
     "prompt_number": 21
    },
    {
     "cell_type": "code",
     "collapsed": false,
     "input": [
      "appended['Post-Click Activity'] = appended[click_based].sum(axis=1)\n",
      "appended['Post-Impression Activity'] = appended[view_based].sum(axis=1)\n",
      "appended['Store Locator Visits'] = appended[SLV_conversions].sum(axis=1)\n",
      "\n",
      "appended['Awareness Actions'] = appended['A Actions'] + appended['B Actions']\n",
      "appended['Consideration Actions'] = appended['C Actions'] + appended['D Actions']\n",
      "appended['Traffic Actions'] = appended['Awareness Actions'] + appended['Consideration Actions']"
     ],
     "language": "python",
     "metadata": {},
     "outputs": [],
     "prompt_number": 22
    },
    {
     "cell_type": "code",
     "collapsed": false,
     "input": [
      "appended['Creative Field 1'] = appended['Creative Field 1'].str.replace('Creative Type: ', '')\n",
      "appended['Creative Field 1'] = appended['Creative Field 1'].str.replace('(', '')\n",
      "appended['Creative Field 1'] = appended['Creative Field 1'].str.replace(')', '')\n",
      "appended['Creative Field 1'] = appended['Creative Field 1'].str.replace('not set', 'TMO Unique Creative')\n",
      "\n",
      "appended['Message Bucket'] = appended['Creative Field 1'].str.split('_').str.get(0)\n",
      "\n",
      "appended['Message Category'] = appended['Creative Field 1'].str.split('_').str.get(1)\n",
      "\n",
      "appended['Message Offer'] = appended['Creative Field 1'].str.split('_').str.get(2)\n",
      "appended['Message Offer'].fillna(appended['Creative Groups 2'], inplace=True)"
     ],
     "language": "python",
     "metadata": {},
     "outputs": [],
     "prompt_number": 23
    },
    {
     "cell_type": "code",
     "collapsed": false,
     "input": [
      "appended['Platform'] = platform\n",
      "appended['P_Creative'] = creative\n",
      "appended['Buy'] = buy\n",
      "\n",
      "appended['Category'] = appended['Platform'] + ' - ' + appended['P_Creative'] + ' - ' + appended['Buy']\n",
      "\n",
      "appended['Category'] = np.where(appended['Category'].str[:3] == ' - ', appended['Category'].str[3:], appended['Category'])\n",
      "appended['Category'] = np.where(appended['Category'].str[-3:] == ' - ', appended['Category'].str[:-3], appended['Category'])"
     ],
     "language": "python",
     "metadata": {},
     "outputs": [],
     "prompt_number": 24
    },
    {
     "cell_type": "code",
     "collapsed": false,
     "input": [
      "appended['Week'] = appended['Date'].min()\n",
      "appended['Video Completions'] = 0\n",
      "appended['Video Views'] = 0\n",
      "\n",
      "appended['F Tag'] = 0\n",
      "appended['F Actions'] = 0"
     ],
     "language": "python",
     "metadata": {},
     "outputs": [],
     "prompt_number": 25
    },
    {
     "cell_type": "code",
     "collapsed": false,
     "input": [
      "sa_columns = list(sa.columns)"
     ],
     "language": "python",
     "metadata": {},
     "outputs": [],
     "prompt_number": 26
    },
    {
     "cell_type": "code",
     "collapsed": false,
     "input": [
      "dimensions = ['Week', 'Date', 'Campaign', 'Site (DCM)', 'Click-through URL', 'F Tag', 'Category', 'Message Bucket', 'Message Category', \n",
      "              'Message Offer', 'Creative', 'Ad', 'Creative Groups 1', 'Creative Groups 2', 'Creative ID', 'Creative Type', \n",
      "              'Creative Field 1', 'Placement', 'Placement Cost Structure', 'OrderNumber (string)', 'Activity', 'Floodlight Attribution Type',\n",
      "              'Plan (string)', 'Device (string)', 'Service (string)', 'Accessory (string)']\n",
      "\n",
      "metrics = ['Media Cost', 'Impressions', 'Clicks', 'Orders', 'Plans', 'Add-a-Line', 'Activations', 'Devices', 'Services', 'Accessories',\n",
      "           'Prepaid Plans', 'Store Locator Visits', 'A Actions', 'B Actions', 'C Actions', 'D Actions', 'E Actions', 'F Actions', \n",
      "           'Awareness Actions', 'Consideration Actions', 'Traffic Actions', 'Post-Click Activity', 'Post-Impression Activity',\n",
      "           'Video Completions', 'Video Views']"
     ],
     "language": "python",
     "metadata": {},
     "outputs": [],
     "prompt_number": 27
    },
    {
     "cell_type": "code",
     "collapsed": false,
     "input": [
      "action_tags = sa_columns[sa_columns.index('DBM Cost USD') + 1:]"
     ],
     "language": "python",
     "metadata": {},
     "outputs": [],
     "prompt_number": 28
    },
    {
     "cell_type": "code",
     "collapsed": false,
     "input": [
      "new_columns = dimensions + metrics + action_tags"
     ],
     "language": "python",
     "metadata": {},
     "outputs": [],
     "prompt_number": 29
    },
    {
     "cell_type": "code",
     "collapsed": false,
     "input": [
      "new_appended = appended[new_columns]"
     ],
     "language": "python",
     "metadata": {},
     "outputs": [],
     "prompt_number": 30
    },
    {
     "cell_type": "code",
     "collapsed": false,
     "input": [
      "Range('working', 'A1').horizontal.value = list(new_appended.columns)\n",
      "chunk_df(new_appended, 'working', 'A2')"
     ],
     "language": "python",
     "metadata": {},
     "outputs": [],
     "prompt_number": 31
    },
    {
     "cell_type": "code",
     "collapsed": false,
     "input": [
      "f_tag_range = Range('working', 'F2').vertical\n",
      "\n",
      "for cell in f_tag_range:\n",
      "    url = cell.offset(0, -1).get_address(False, False, False)\n",
      "    cell.formula = '=IF(' + url + '=\"http://www.t-mobile.com/\",\"na\",IFERROR(INDEX(F_Tags!C:C,MATCH(working!' + url + ',F_Tags!E:E,0)),\"na\"))'\n",
      "    \n",
      "new_appended['F Tag'] = Range('working', 'F2').vertical.value"
     ],
     "language": "python",
     "metadata": {},
     "outputs": [
      {
       "output_type": "stream",
       "stream": "stderr",
       "text": [
        "-c:7: SettingWithCopyWarning: \n",
        "A value is trying to be set on a copy of a slice from a DataFrame.\n",
        "Try using .loc[row_indexer,col_indexer] = value instead\n",
        "\n",
        "See the the caveats in the documentation: http://pandas.pydata.org/pandas-docs/stable/indexing.html#indexing-view-versus-copy\n"
       ]
      }
     ],
     "prompt_number": 33
    },
    {
     "cell_type": "code",
     "collapsed": false,
     "input": [
      "f_tag_list = []\n",
      "for i in new_appended['F Tag']:\n",
      "    for j in new_appended.columns:\n",
      "        tag = re.search(i, j)\n",
      "        if tag:\n",
      "            f_tag_list.append(j)"
     ],
     "language": "python",
     "metadata": {},
     "outputs": [],
     "prompt_number": 34
    },
    {
     "cell_type": "code",
     "collapsed": false,
     "input": [
      "f_tag_list2 = list(set(f_tag_list).intersection(new_appended.columns))\n",
      "f_conversions = list(set(f_tag_list2).intersection(new_appended.columns))"
     ],
     "language": "python",
     "metadata": {},
     "outputs": [],
     "prompt_number": 35
    },
    {
     "cell_type": "code",
     "collapsed": false,
     "input": [
      "new_appended['F Actions'] = new_appended[f_conversions].sum(axis=1)"
     ],
     "language": "python",
     "metadata": {},
     "outputs": [
      {
       "output_type": "stream",
       "stream": "stderr",
       "text": [
        "-c:1: SettingWithCopyWarning: \n",
        "A value is trying to be set on a copy of a slice from a DataFrame.\n",
        "Try using .loc[row_indexer,col_indexer] = value instead\n",
        "\n",
        "See the the caveats in the documentation: http://pandas.pydata.org/pandas-docs/stable/indexing.html#indexing-view-versus-copy\n"
       ]
      }
     ],
     "prompt_number": 36
    },
    {
     "cell_type": "code",
     "collapsed": false,
     "input": [
      "data_columns = dimensions + metrics + action_tags"
     ],
     "language": "python",
     "metadata": {},
     "outputs": [],
     "prompt_number": 37
    },
    {
     "cell_type": "code",
     "collapsed": false,
     "input": [
      "data = new_appended[data_columns]\n",
      "data.fillna(0, inplace = True)"
     ],
     "language": "python",
     "metadata": {},
     "outputs": [],
     "prompt_number": 38
    },
    {
     "cell_type": "heading",
     "level": 1,
     "metadata": {},
     "source": [
      "New Data + Past Data Merge"
     ]
    },
    {
     "cell_type": "code",
     "collapsed": false,
     "input": [
      "past_data = pd.DataFrame(pd.read_excel(wb.fullname, 'data', index_col = None))"
     ],
     "language": "python",
     "metadata": {},
     "outputs": [
      {
       "ename": "KeyboardInterrupt",
       "evalue": "",
       "output_type": "pyerr",
       "traceback": [
        "\u001b[1;31m---------------------------------------------------------------------------\u001b[0m\n\u001b[1;31mKeyboardInterrupt\u001b[0m                         Traceback (most recent call last)",
        "\u001b[1;32m<ipython-input-47-9421f5fc5741>\u001b[0m in \u001b[0;36m<module>\u001b[1;34m()\u001b[0m\n\u001b[1;32m----> 1\u001b[1;33m \u001b[0mpast_data\u001b[0m \u001b[1;33m=\u001b[0m \u001b[0mpd\u001b[0m\u001b[1;33m.\u001b[0m\u001b[0mDataFrame\u001b[0m\u001b[1;33m(\u001b[0m\u001b[0mpd\u001b[0m\u001b[1;33m.\u001b[0m\u001b[0mread_excel\u001b[0m\u001b[1;33m(\u001b[0m\u001b[0mwb\u001b[0m\u001b[1;33m.\u001b[0m\u001b[0mfullname\u001b[0m\u001b[1;33m,\u001b[0m \u001b[1;34m'data'\u001b[0m\u001b[1;33m,\u001b[0m \u001b[0mindex_col\u001b[0m \u001b[1;33m=\u001b[0m \u001b[0mNone\u001b[0m\u001b[1;33m)\u001b[0m\u001b[1;33m)\u001b[0m\u001b[1;33m\u001b[0m\u001b[0m\n\u001b[0m",
        "\u001b[1;32mC:\\Program Files\\Anaconda\\lib\\site-packages\\pandas\\io\\excel.pyc\u001b[0m in \u001b[0;36mread_excel\u001b[1;34m(io, sheetname, **kwds)\u001b[0m\n\u001b[0;32m    130\u001b[0m     \u001b[0mengine\u001b[0m \u001b[1;33m=\u001b[0m \u001b[0mkwds\u001b[0m\u001b[1;33m.\u001b[0m\u001b[0mpop\u001b[0m\u001b[1;33m(\u001b[0m\u001b[1;34m'engine'\u001b[0m\u001b[1;33m,\u001b[0m \u001b[0mNone\u001b[0m\u001b[1;33m)\u001b[0m\u001b[1;33m\u001b[0m\u001b[0m\n\u001b[0;32m    131\u001b[0m \u001b[1;33m\u001b[0m\u001b[0m\n\u001b[1;32m--> 132\u001b[1;33m     \u001b[1;32mreturn\u001b[0m \u001b[0mExcelFile\u001b[0m\u001b[1;33m(\u001b[0m\u001b[0mio\u001b[0m\u001b[1;33m,\u001b[0m \u001b[0mengine\u001b[0m\u001b[1;33m=\u001b[0m\u001b[0mengine\u001b[0m\u001b[1;33m)\u001b[0m\u001b[1;33m.\u001b[0m\u001b[0mparse\u001b[0m\u001b[1;33m(\u001b[0m\u001b[0msheetname\u001b[0m\u001b[1;33m=\u001b[0m\u001b[0msheetname\u001b[0m\u001b[1;33m,\u001b[0m \u001b[1;33m**\u001b[0m\u001b[0mkwds\u001b[0m\u001b[1;33m)\u001b[0m\u001b[1;33m\u001b[0m\u001b[0m\n\u001b[0m\u001b[0;32m    133\u001b[0m \u001b[1;33m\u001b[0m\u001b[0m\n\u001b[0;32m    134\u001b[0m \u001b[1;33m\u001b[0m\u001b[0m\n",
        "\u001b[1;32mC:\\Program Files\\Anaconda\\lib\\site-packages\\pandas\\io\\excel.pyc\u001b[0m in \u001b[0;36m__init__\u001b[1;34m(self, io, **kwds)\u001b[0m\n\u001b[0;32m    167\u001b[0m                 \u001b[0mself\u001b[0m\u001b[1;33m.\u001b[0m\u001b[0mbook\u001b[0m \u001b[1;33m=\u001b[0m \u001b[0mxlrd\u001b[0m\u001b[1;33m.\u001b[0m\u001b[0mopen_workbook\u001b[0m\u001b[1;33m(\u001b[0m\u001b[0mfile_contents\u001b[0m\u001b[1;33m=\u001b[0m\u001b[0mdata\u001b[0m\u001b[1;33m)\u001b[0m\u001b[1;33m\u001b[0m\u001b[0m\n\u001b[0;32m    168\u001b[0m             \u001b[1;32melse\u001b[0m\u001b[1;33m:\u001b[0m\u001b[1;33m\u001b[0m\u001b[0m\n\u001b[1;32m--> 169\u001b[1;33m                 \u001b[0mself\u001b[0m\u001b[1;33m.\u001b[0m\u001b[0mbook\u001b[0m \u001b[1;33m=\u001b[0m \u001b[0mxlrd\u001b[0m\u001b[1;33m.\u001b[0m\u001b[0mopen_workbook\u001b[0m\u001b[1;33m(\u001b[0m\u001b[0mio\u001b[0m\u001b[1;33m)\u001b[0m\u001b[1;33m\u001b[0m\u001b[0m\n\u001b[0m\u001b[0;32m    170\u001b[0m         \u001b[1;32melif\u001b[0m \u001b[0mengine\u001b[0m \u001b[1;33m==\u001b[0m \u001b[1;34m'xlrd'\u001b[0m \u001b[1;32mand\u001b[0m \u001b[0misinstance\u001b[0m\u001b[1;33m(\u001b[0m\u001b[0mio\u001b[0m\u001b[1;33m,\u001b[0m \u001b[0mxlrd\u001b[0m\u001b[1;33m.\u001b[0m\u001b[0mBook\u001b[0m\u001b[1;33m)\u001b[0m\u001b[1;33m:\u001b[0m\u001b[1;33m\u001b[0m\u001b[0m\n\u001b[0;32m    171\u001b[0m             \u001b[0mself\u001b[0m\u001b[1;33m.\u001b[0m\u001b[0mbook\u001b[0m \u001b[1;33m=\u001b[0m \u001b[0mio\u001b[0m\u001b[1;33m\u001b[0m\u001b[0m\n",
        "\u001b[1;32mC:\\Program Files\\Anaconda\\lib\\site-packages\\xlrd\\__init__.py\u001b[0m in \u001b[0;36mopen_workbook\u001b[1;34m(filename, logfile, verbosity, use_mmap, file_contents, encoding_override, formatting_info, on_demand, ragged_rows)\u001b[0m\n\u001b[0;32m    414\u001b[0m                 \u001b[0mformatting_info\u001b[0m\u001b[1;33m=\u001b[0m\u001b[0mformatting_info\u001b[0m\u001b[1;33m,\u001b[0m\u001b[1;33m\u001b[0m\u001b[0m\n\u001b[0;32m    415\u001b[0m                 \u001b[0mon_demand\u001b[0m\u001b[1;33m=\u001b[0m\u001b[0mon_demand\u001b[0m\u001b[1;33m,\u001b[0m\u001b[1;33m\u001b[0m\u001b[0m\n\u001b[1;32m--> 416\u001b[1;33m                 \u001b[0mragged_rows\u001b[0m\u001b[1;33m=\u001b[0m\u001b[0mragged_rows\u001b[0m\u001b[1;33m,\u001b[0m\u001b[1;33m\u001b[0m\u001b[0m\n\u001b[0m\u001b[0;32m    417\u001b[0m                 )\n\u001b[0;32m    418\u001b[0m             \u001b[1;32mreturn\u001b[0m \u001b[0mbk\u001b[0m\u001b[1;33m\u001b[0m\u001b[0m\n",
        "\u001b[1;32mC:\\Program Files\\Anaconda\\lib\\site-packages\\xlrd\\xlsx.py\u001b[0m in \u001b[0;36mopen_workbook_2007_xml\u001b[1;34m(zf, component_names, logfile, verbosity, use_mmap, formatting_info, on_demand, ragged_rows)\u001b[0m\n\u001b[0;32m    789\u001b[0m         \u001b[0mx12sheet\u001b[0m \u001b[1;33m=\u001b[0m \u001b[0mX12Sheet\u001b[0m\u001b[1;33m(\u001b[0m\u001b[0msheet\u001b[0m\u001b[1;33m,\u001b[0m \u001b[0mlogfile\u001b[0m\u001b[1;33m,\u001b[0m \u001b[0mverbosity\u001b[0m\u001b[1;33m)\u001b[0m\u001b[1;33m\u001b[0m\u001b[0m\n\u001b[0;32m    790\u001b[0m         \u001b[0mheading\u001b[0m \u001b[1;33m=\u001b[0m \u001b[1;34m\"Sheet %r (sheetx=%d) from %r\"\u001b[0m \u001b[1;33m%\u001b[0m \u001b[1;33m(\u001b[0m\u001b[0msheet\u001b[0m\u001b[1;33m.\u001b[0m\u001b[0mname\u001b[0m\u001b[1;33m,\u001b[0m \u001b[0msheetx\u001b[0m\u001b[1;33m,\u001b[0m \u001b[0mfname\u001b[0m\u001b[1;33m)\u001b[0m\u001b[1;33m\u001b[0m\u001b[0m\n\u001b[1;32m--> 791\u001b[1;33m         \u001b[0mx12sheet\u001b[0m\u001b[1;33m.\u001b[0m\u001b[0mprocess_stream\u001b[0m\u001b[1;33m(\u001b[0m\u001b[0mzflo\u001b[0m\u001b[1;33m,\u001b[0m \u001b[0mheading\u001b[0m\u001b[1;33m)\u001b[0m\u001b[1;33m\u001b[0m\u001b[0m\n\u001b[0m\u001b[0;32m    792\u001b[0m         \u001b[1;32mdel\u001b[0m \u001b[0mzflo\u001b[0m\u001b[1;33m\u001b[0m\u001b[0m\n\u001b[0;32m    793\u001b[0m         \u001b[0mcomments_fname\u001b[0m \u001b[1;33m=\u001b[0m \u001b[1;34m'xl/comments%d.xml'\u001b[0m \u001b[1;33m%\u001b[0m \u001b[1;33m(\u001b[0m\u001b[0msheetx\u001b[0m \u001b[1;33m+\u001b[0m \u001b[1;36m1\u001b[0m\u001b[1;33m)\u001b[0m\u001b[1;33m\u001b[0m\u001b[0m\n",
        "\u001b[1;32mC:\\Program Files\\Anaconda\\lib\\site-packages\\xlrd\\xlsx.py\u001b[0m in \u001b[0;36mown_process_stream\u001b[1;34m(self, stream, heading)\u001b[0m\n\u001b[0;32m    524\u001b[0m         \u001b[0mrow_tag\u001b[0m \u001b[1;33m=\u001b[0m \u001b[0mU_SSML12\u001b[0m \u001b[1;33m+\u001b[0m \u001b[1;34m\"row\"\u001b[0m\u001b[1;33m\u001b[0m\u001b[0m\n\u001b[0;32m    525\u001b[0m         \u001b[0mself_do_row\u001b[0m \u001b[1;33m=\u001b[0m \u001b[0mself\u001b[0m\u001b[1;33m.\u001b[0m\u001b[0mdo_row\u001b[0m\u001b[1;33m\u001b[0m\u001b[0m\n\u001b[1;32m--> 526\u001b[1;33m         \u001b[1;32mfor\u001b[0m \u001b[0mevent\u001b[0m\u001b[1;33m,\u001b[0m \u001b[0melem\u001b[0m \u001b[1;32min\u001b[0m \u001b[0mET\u001b[0m\u001b[1;33m.\u001b[0m\u001b[0miterparse\u001b[0m\u001b[1;33m(\u001b[0m\u001b[0mstream\u001b[0m\u001b[1;33m)\u001b[0m\u001b[1;33m:\u001b[0m\u001b[1;33m\u001b[0m\u001b[0m\n\u001b[0m\u001b[0;32m    527\u001b[0m             \u001b[1;32mif\u001b[0m \u001b[0melem\u001b[0m\u001b[1;33m.\u001b[0m\u001b[0mtag\u001b[0m \u001b[1;33m==\u001b[0m \u001b[0mrow_tag\u001b[0m\u001b[1;33m:\u001b[0m\u001b[1;33m\u001b[0m\u001b[0m\n\u001b[0;32m    528\u001b[0m                 \u001b[0mself_do_row\u001b[0m\u001b[1;33m(\u001b[0m\u001b[0melem\u001b[0m\u001b[1;33m)\u001b[0m\u001b[1;33m\u001b[0m\u001b[0m\n",
        "\u001b[1;32m<string>\u001b[0m in \u001b[0;36mnext\u001b[1;34m(self)\u001b[0m\n",
        "\u001b[1;31mKeyboardInterrupt\u001b[0m: "
       ]
      }
     ],
     "prompt_number": 47
    },
    {
     "cell_type": "code",
     "collapsed": false,
     "input": [
      "past_data['Impressions'].sum()"
     ],
     "language": "python",
     "metadata": {},
     "outputs": [
      {
       "metadata": {},
       "output_type": "pyout",
       "prompt_number": 40,
       "text": [
        "628184774.0"
       ]
      }
     ],
     "prompt_number": 40
    },
    {
     "cell_type": "code",
     "collapsed": false,
     "input": [
      "appended_data = past_data.append(data)"
     ],
     "language": "python",
     "metadata": {},
     "outputs": [],
     "prompt_number": 41
    },
    {
     "cell_type": "code",
     "collapsed": false,
     "input": [
      "appended_data['Impressions'].sum()"
     ],
     "language": "python",
     "metadata": {},
     "outputs": [
      {
       "metadata": {},
       "output_type": "pyout",
       "prompt_number": 43,
       "text": [
        "3182179150.0"
       ]
      }
     ],
     "prompt_number": 43
    },
    {
     "cell_type": "code",
     "collapsed": false,
     "input": [
      "past_data['Impressions'].sum() + data['Impressions'].sum()"
     ],
     "language": "python",
     "metadata": {},
     "outputs": [
      {
       "metadata": {},
       "output_type": "pyout",
       "prompt_number": 44,
       "text": [
        "3182179150.0"
       ]
      }
     ],
     "prompt_number": 44
    },
    {
     "cell_type": "code",
     "collapsed": false,
     "input": [
      "chunk_df(appended_data, 'Sheet1', 'A1')"
     ],
     "language": "python",
     "metadata": {},
     "outputs": [],
     "prompt_number": 45
    },
    {
     "cell_type": "code",
     "collapsed": false,
     "input": [
      "Range('Sheet1', 'A1').value = list(appended_data.columns)"
     ],
     "language": "python",
     "metadata": {},
     "outputs": [],
     "prompt_number": 46
    },
    {
     "cell_type": "code",
     "collapsed": false,
     "input": [],
     "language": "python",
     "metadata": {},
     "outputs": []
    }
   ],
   "metadata": {}
  }
 ]
}