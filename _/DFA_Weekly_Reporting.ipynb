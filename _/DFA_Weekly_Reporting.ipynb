{
 "metadata": {
  "name": "",
  "signature": "sha256:3e97988abffe5eab877909e5b50f469d2f218d8177c870bdf0a01abaacbef056"
 },
 "nbformat": 3,
 "nbformat_minor": 0,
 "worksheets": [
  {
   "cells": [
    {
     "cell_type": "code",
     "collapsed": false,
     "input": [
      "import pandas as pd\n",
      "import numpy as np\n",
      "from xlwings import Workbook, Range\n",
      "import re\n",
      "import itertools"
     ],
     "language": "python",
     "metadata": {},
     "outputs": [],
     "prompt_number": 167
    },
    {
     "cell_type": "code",
     "collapsed": false,
     "input": [
      "wb = Workbook(\"C:/Users/aarschle1/Google Drive/Optimedia/T-Mobile/Projects/Weekly_Reporting/Opti_DFA_Weekly_Reporting.xlsm\")"
     ],
     "language": "python",
     "metadata": {},
     "outputs": [],
     "prompt_number": 168
    },
    {
     "cell_type": "code",
     "collapsed": false,
     "input": [
      "sa2 = pd.DataFrame(pd.read_excel(wb.fullname, 'SA_Temp', index_col = None))\n",
      "cfv2 = pd.DataFrame(pd.read_excel(wb.fullname, 'CFV_Temp', index_col = None))"
     ],
     "language": "python",
     "metadata": {},
     "outputs": [],
     "prompt_number": 169
    },
    {
     "cell_type": "code",
     "collapsed": false,
     "input": [
      "def chunk_df(df, sheet, startcell, chunk_size = 10000):\n",
      "    if len(df) <= (chunk_size + 1):\n",
      "        Range(sheet, startcell, index = False, header = True).value = df\n",
      "    else:\n",
      "        c = re.match(r\"([a-z]+)([0-9]+)\", startcell, re.I)\n",
      "        row = c.group(1)\n",
      "        col = int(c.group(2))\n",
      "        \n",
      "        for chunk in (df[rw:rw + chunk_size] for rw in \n",
      "                      range(0, len(df), chunk_size)):\n",
      "            Range(sheet, row + str(col), index = False, header = False).value = chunk\n",
      "            col += chunk_size"
     ],
     "language": "python",
     "metadata": {},
     "outputs": [],
     "prompt_number": 170
    },
    {
     "cell_type": "code",
     "collapsed": false,
     "input": [
      "sa = sa2\n",
      "cfv = cfv2"
     ],
     "language": "python",
     "metadata": {},
     "outputs": [],
     "prompt_number": 205
    },
    {
     "cell_type": "code",
     "collapsed": false,
     "input": [
      "cfv['Orders'] = 1\n",
      "cfv['Plans'] = cfv['Plan (string)'].str.count(',') + 1\n",
      "cfv['Devices'] = cfv['Device (string)'].str.count(',') + 1\n",
      "cfv['Services'] = cfv['Service (string)'].str.count(',') + 1\n",
      "cfv['Add-a-Line'] = cfv['Service (string)'].str.count('ADD')\n",
      "cfv['Accessories'] = cfv['Accessory (string)'].str.count(',') + 1\n",
      "cfv['Activations'] = cfv['Plans'] + cfv['Add-a-Line']\n",
      "\n",
      "cfv['Postpaid Plans'] = np.where(cfv['Plans'] == cfv['Devices'], cfv['Plans'], pd.concat([cfv['Plans'], cfv['Devices']], axis=1).min(axis=1))\n",
      "cfv['Prepaid Plans'] = np.where((cfv['Plans'] == 0) & (cfv['Devices'] != 0), 0, cfv['Devices'])\n",
      "\n",
      "cfv ['Orders'] = np.where((cfv['Campaign'].str.contains('DDR') == True) & (cfv['Floodlight Attribution Type'].str.contains('View-through') == True),\n",
      "                           cfv['Orders'] * 0.5, cfv['Orders'])"
     ],
     "language": "python",
     "metadata": {},
     "outputs": [],
     "prompt_number": 206
    },
    {
     "cell_type": "code",
     "collapsed": false,
     "input": [
      "appended = sa.append(cfv)"
     ],
     "language": "python",
     "metadata": {},
     "outputs": [],
     "prompt_number": 207
    },
    {
     "cell_type": "code",
     "collapsed": false,
     "input": [
      "appended['Media Cost'] = np.where(appended['DBM Cost USD'] != 0, appended['DBM Cost USD'], appended['Media Cost'])\n",
      "appended.drop('DBM Cost USD', 1, inplace = True)"
     ],
     "language": "python",
     "metadata": {},
     "outputs": [],
     "prompt_number": 208
    },
    {
     "cell_type": "code",
     "collapsed": false,
     "input": [
      "appended['Click-through URL'] = appended['Click-through URL'].str.replace('http://analytics.bluekai.com/site/', '')\n",
      "appended['Click-through URL'] = appended['Click-through URL'].str.replace('%3F%3DADV_DS_%epid!_%eaid!_%ecid!_%eadv!', '')\n",
      "appended['Click-through URL'] = appended['Click-through URL'].str.replace('15991\\?phint', '')\n",
      "appended['Click-through URL'] = appended['Click-through URL'].str.replace('http://15991\\?phint', '')\n",
      "appended['Click-through URL'] = appended['Click-through URL'].str.replace('event%3Dclick&phint', '')\n",
      "appended['Click-through URL'] = appended['Click-through URL'].str.replace('aid%3D%eadv!&phint', '')\n",
      "appended['Click-through URL'] = appended['Click-through URL'].str.replace('pid%3D%epid!&phint', '')\n",
      "appended['Click-through URL'] = appended['Click-through URL'].str.replace('cid%3D%ebuy!&phint', '')\n",
      "appended['Click-through URL'] = appended['Click-through URL'].str.replace('crid%3D%ecid!&done', '')\n",
      "appended['Click-through URL'] = appended['Click-through URL'].str.replace('pid%3D%25epid!&phint', '')\n",
      "appended['Click-through URL'] = appended['Click-through URL'].str.replace('%3D%epid!_%eaid!_%ecid!_%eadv!', '')\n",
      "appended['Click-through URL'] = appended['Click-through URL'].str.replace('%26csdids', '')\n",
      "appended['Click-through URL'] = appended['Click-through URL'].str.replace('DADV_DS_ADDDVL4Q_EMUL7Y9E1YA4116', '')\n",
      "appended['Click-through URL'] = appended['Click-through URL'].str.replace('DWTR_DD_DDRDSPLYPR_JM2694TSP3U5895', '')\n",
      "appended['Click-through URL'] = appended['Click-through URL'].str.replace('DWTR_DD_DDRFCBK_RQLMKXRCUQZ1042', '')\n",
      "appended['Click-through URL'] = appended['Click-through URL'].str.replace('%3Fcmpid%3', '')\n",
      "appended['Click-through URL'] = appended['Click-through URL'].str.replace('b/refmh_', '')\n",
      "appended['Click-through URL'] = appended['Click-through URL'].str.replace('%3Fcm_mmc%3DPurchase-_-Display-_-Revere-_-Revere', '')\n",
      "appended['Click-through URL'] = appended['Click-through URL'].str.replace('%3Fcm_mmc%3DDisplay-_-Purchase-_-GM-_-Tablet_Base', '')\n",
      "appended['Click-through URL'] = appended['Click-through URL'].str.replace('%3Fcmpid%3DWTR_DD_DDRFCBK_RQLMKXRCUQZ1042%26csdids%3D%epid!_%eaid!_%ecid!_%eadv!', '')\n",
      "appended['Click-through URL'] = appended['Click-through URL'].str.replace('%3F%26csdids%3DADV_DS_%epid!_%eaid!_%ecid!_%eadv!', '')\n",
      "appended['Click-through URL'] = appended['Click-through URL'].str.replace('%3Fcm_mmc%3DPurchase-_-Display-_-Revere-_-Revere%26csdids%3D%epid!_%eaid!_%ecid!_%eadv!', '')\n",
      "appended['Click-through URL'] = appended['Click-through URL'].str.replace('%3Fcm_mmc%3DDisplay-_-Purchase-_-GM-_-Tablet_Base%26csdids%3D%epid!_%eaid!_%ecid!_%eadv!', '')\n",
      "appended['Click-through URL'] = appended['Click-through URL'].str.replace('%3Fcmpid%3DWTR_DD_DDRDSPLYPR_JM2694TSP3U5895%26csdids%3D%epid!_%eaid!_%ecid!_%eadv!', '')\n",
      "appended['Click-through URL'] = appended['Click-through URL'].str.replace('&csdids%epid!_%eaid!_%ecid!_%eadv!', '')\n",
      "appended['Click-through URL'] = appended['Click-through URL'].str.replace('=', '')\n",
      "appended['Click-through URL'] = appended['Click-through URL'].str.replace('%2F', '/')\n",
      "appended['Click-through URL'] = appended['Click-through URL'].str.replace('%3A', ':')\n",
      "appended['Click-through URL'] = appended['Click-through URL'].str.replace('%23', '#')\n",
      "appended['Click-through URL'] = appended['Click-through URL'].apply(lambda x: str(x).split('.html')[0])\n",
      "appended['Click-through URL'] = appended['Click-through URL'].apply(lambda x: str(x).split('?')[0])\n",
      "appended['Click-through URL'] = appended['Click-through URL'].apply(lambda x: str(x).split('%')[0])"
     ],
     "language": "python",
     "metadata": {},
     "outputs": [],
     "prompt_number": 209
    },
    {
     "cell_type": "code",
     "collapsed": false,
     "input": [
      "appended = appended.groupby(['Campaign', 'Date', 'Site (DCM)', 'Creative', 'Click-through URL', 'Ad', 'Creative Groups 1',\n",
      "                             'Creative Groups 2', 'Creative ID', 'Creative Type', 'Creative Field 1', 'Placement',   \n",
      "                             'Placement Cost Structure', 'Floodlight Attribution Type', 'Activity', 'OrderNumber (string)',\n",
      "                             'Plan (string)', 'Device (string)', 'Service (string)', 'Accessory (string)'], as_index = False).aggregate(np.sum)"
     ],
     "language": "python",
     "metadata": {},
     "outputs": [],
     "prompt_number": 210
    },
    {
     "cell_type": "code",
     "collapsed": false,
     "input": [
      "appended['Plans'].fillna(0, inplace = True)\n",
      "appended['Services'].fillna(0, inplace = True)\n",
      "appended['Devices'].fillna(0, inplace = True)\n",
      "appended['Accessories'].fillna(0, inplace = True)\n",
      "appended['Orders'].fillna(0, inplace = True)"
     ],
     "language": "python",
     "metadata": {},
     "outputs": [],
     "prompt_number": 211
    },
    {
     "cell_type": "code",
     "collapsed": false,
     "input": [
      "appended['Plan (string)'] = np.where(appended['Plans'] < 1, '',\n",
      "                                     appended['Plan (string)'])\n",
      "\n",
      "appended['Service (string)'] = np.where(appended['Services'] < 1, '',\n",
      "                                       appended['Service (string)'])\n",
      "\n",
      "appended['Accessory (string)'] = np.where(appended['Accessories'] < 1, '',\n",
      "                                          appended['Accessory (string)'])\n",
      "\n",
      "appended['Device (string)'] = np.where(appended['Devices'] < 1, \"\",\n",
      "                                       appended['Device (string)'])\n",
      "\n",
      "appended['OrderNumber (string)'] = np.where(appended['Orders'] < 1, '', appended['OrderNumber (string)'])\n",
      "\n",
      "appended['Activity'] = np.where(appended['Orders'] < 1, '', appended['Activity'])\n",
      "\n",
      "appended['Floodlight Attribution Type'] = np.where(appended['Orders'] < 1, '', appended['Floodlight Attribution Type'])\n",
      "\n",
      "appended['Devices'] = np.where(appended['Device (string)'].str.contains('nan') == True, 0, appended['Devices'])"
     ],
     "language": "python",
     "metadata": {},
     "outputs": [],
     "prompt_number": 212
    },
    {
     "cell_type": "code",
     "collapsed": false,
     "input": [
      "a_actions = Range('Action_Reference', 'A2').vertical.value\n",
      "b_actions = Range('Action_Reference', 'B2').vertical.value\n",
      "c_actions = Range('Action_Reference', 'C2').vertical.value\n",
      "d_actions = Range('Action_Reference', 'D2').vertical.value\n",
      "e_actions = Range('Action_Reference', 'E2').vertical.value\n",
      "\n",
      "column_names = appended.columns\n",
      "traffic_tags = a_actions + b_actions + c_actions + d_actions + e_actions\n",
      "\n",
      "a_actions = list(set(a_actions).intersection(column_names))\n",
      "b_actions = list(set(b_actions).intersection(column_names))\n",
      "c_actions = list(set(c_actions).intersection(column_names))\n",
      "d_actions = list(set(d_actions).intersection(column_names))\n",
      "e_actions = list(set(e_actions).intersection(column_names))\n",
      "\n",
      "appended['A Actions'] = appended[a_actions].sum(axis=1)\n",
      "appended['B Actions'] = appended[b_actions].sum(axis=1)\n",
      "appended['C Actions'] = appended[c_actions].sum(axis=1)\n",
      "appended['D Actions'] = appended[d_actions].sum(axis=1)\n",
      "appended['E Actions'] = appended[e_actions].sum(axis=1)"
     ],
     "language": "python",
     "metadata": {},
     "outputs": [],
     "prompt_number": 213
    },
    {
     "cell_type": "code",
     "collapsed": false,
     "input": [
      "platform = np.where(appended['Placement'].str.contains(mobile) == True, 'Mobile',\n",
      "                    np.where(appended['Placement'].str.contains(tablet) == True, 'Tablet',\n",
      "                             np.where(appended['Placement'].str.contains(social) == True, 'Social', '')))\n",
      "\n",
      "creative = np.where(appended['Placement'].str.contains(rm) == True, 'Rich Media',\n",
      "                    np.where(appended['Placement'].str.contains(custom) == True, 'Custom',\n",
      "                             np.where(appended['Placement'].str.contains(rem) == True, 'Remessaging', 'Standard')))\n",
      "\n",
      "buy = np.where(appended['Placement'].str.contains(dynamic) == True, 'dCPM',\n",
      "               np.where(appended['Placement'].str.contains(other_buy), 'Flat', ''))"
     ],
     "language": "python",
     "metadata": {},
     "outputs": [],
     "prompt_number": 214
    },
    {
     "cell_type": "code",
     "collapsed": false,
     "input": [
      "mobile = '|'.join(list(Range('Lookup', 'B2:B6').value))\n",
      "tablet = '|'.join(list(Range('Lookup', 'B7:B9').value))\n",
      "social = '|'.join(list(Range('Lookup', 'B10:B12').value))\n",
      "\n",
      "rm = '|'.join(list(Range('Lookup', 'D2:D5').value))\n",
      "custom = '|'.join(list(Range('Lookup', 'D6:D15').value))\n",
      "rem = '|'.join(list(Range('Lookup', 'D16:D28').value))\n",
      "\n",
      "dynamic = '|'.join(list(Range('Lookup', 'F2:F3').value))\n",
      "other_buy = '|'.join(list(Range('Lookup', 'F4').value))"
     ],
     "language": "python",
     "metadata": {},
     "outputs": [],
     "prompt_number": 215
    },
    {
     "cell_type": "code",
     "collapsed": false,
     "input": [
      "view_through = []\n",
      "for item in column_names:\n",
      "    view = re.search('View-through Conversions', item)\n",
      "    if view:\n",
      "        view_through.append(item)\n",
      "\n",
      "click_through = []\n",
      "for item in column_names:\n",
      "    click = re.search('Click-through Conversions', item)\n",
      "    if click:\n",
      "        click_through.append(item)\n",
      "\n",
      "store_locator = []\n",
      "for item in column_names:\n",
      "    locator = re.search('Store Locator', item)\n",
      "    if locator:\n",
      "        store_locator.append(item)"
     ],
     "language": "python",
     "metadata": {},
     "outputs": [],
     "prompt_number": 216
    },
    {
     "cell_type": "code",
     "collapsed": false,
     "input": [
      "view_based = list(set(view_through).intersection(column_names))\n",
      "click_based = list(set(click_through).intersection(column_names))\n",
      "SLV_conversions = list(set(store_locator).intersection(column_names))"
     ],
     "language": "python",
     "metadata": {},
     "outputs": [],
     "prompt_number": 217
    },
    {
     "cell_type": "code",
     "collapsed": false,
     "input": [
      "appended['Post-Click Activity'] = appended[click_based].sum(axis=1)\n",
      "appended['Post-Impression Activity'] = appended[view_based].sum(axis=1)\n",
      "appended['Store Locator Visits'] = appended[store_locator].sum(axis=1)\n",
      "\n",
      "appended['Awareness Actions'] = appended['A Actions'] + appended['B Actions']\n",
      "appended['Consideration Actions'] = appended['C Actions'] + appended['D Actions']\n",
      "appended['Traffic Actions'] = appended['Awareness Actions'] + appended['Consideration Actions']"
     ],
     "language": "python",
     "metadata": {},
     "outputs": [],
     "prompt_number": 218
    },
    {
     "cell_type": "code",
     "collapsed": false,
     "input": [
      "appended['Creative Field 1'] = appended['Creative Field 1'].str.replace('Creative Type: ', '')\n",
      "appended['Creative Field 1'] = appended['Creative Field 1'].str.replace('(', '')\n",
      "appended['Creative Field 1'] = appended['Creative Field 1'].str.replace(')', '')\n",
      "appended['Creative Field 1'] = appended['Creative Field 1'].str.replace('not set', 'TMO Unique Creative')\n",
      "\n",
      "appended['Message Bucket'] = appended['Creative Field 1'].str.split('_').str.get(0)\n",
      "\n",
      "appended['Message Category'] = appended['Creative Field 1'].str.split('_').str.get(1)\n",
      "\n",
      "appended['Message Offer'] = appended['Creative Field 1'].str.split('_').str.get(2)\n",
      "appended['Message Offer'].fillna(appended['Creative Groups 2'], inplace=True)"
     ],
     "language": "python",
     "metadata": {},
     "outputs": [],
     "prompt_number": 219
    },
    {
     "cell_type": "code",
     "collapsed": false,
     "input": [
      "appended['Platform'] = platform\n",
      "appended['P_Creative'] = creative\n",
      "appended['Buy'] = buy\n",
      "\n",
      "appended['Category'] = appended['Platform'] + ' - ' + appended['P_Creative'] + ' - ' + appended['Buy']\n",
      "\n",
      "appended['Category'] = np.where(appended['Category'].str[:3] == ' - ', appended['Category'].str[3:], appended['Category'])\n",
      "appended['Category'] = np.where(appended['Category'].str[-3:] == ' - ', appended['Category'].str[:-3], appended['Category'])"
     ],
     "language": "python",
     "metadata": {},
     "outputs": [],
     "prompt_number": 253
    },
    {
     "cell_type": "code",
     "collapsed": false,
     "input": [
      "appended['Category']"
     ],
     "language": "python",
     "metadata": {},
     "outputs": [
      {
       "metadata": {},
       "output_type": "pyout",
       "prompt_number": 254,
       "text": [
        "0     Standard - Flat\n",
        "1     Standard - Flat\n",
        "2            Standard\n",
        "3            Standard\n",
        "4            Standard\n",
        "5            Standard\n",
        "6            Standard\n",
        "7            Standard\n",
        "8            Standard\n",
        "9            Standard\n",
        "10           Standard\n",
        "11           Standard\n",
        "12           Standard\n",
        "13           Standard\n",
        "14           Standard\n",
        "...\n",
        "28538             Standard - Flat\n",
        "28539             Standard - dCPM\n",
        "28540    Social - Standard - Flat\n",
        "28541             Standard - Flat\n",
        "28542             Standard - dCPM\n",
        "28543             Standard - dCPM\n",
        "28544             Standard - Flat\n",
        "28545             Standard - dCPM\n",
        "28546             Standard - Flat\n",
        "28547             Standard - dCPM\n",
        "28548             Standard - Flat\n",
        "28549             Standard - Flat\n",
        "28550             Standard - Flat\n",
        "28551             Standard - dCPM\n",
        "28552             Standard - Flat\n",
        "Name: Category, Length: 28553, dtype: object"
       ]
      }
     ],
     "prompt_number": 254
    },
    {
     "cell_type": "code",
     "collapsed": false,
     "input": [
      "appended['Week'] = appended['Date'].min()\n",
      "appended['Video Completions'] = 0\n",
      "appended['Video Views'] = 0\n",
      "\n",
      "appended['F Tag'] = 0\n",
      "appended['F Actions'] = 0"
     ],
     "language": "python",
     "metadata": {},
     "outputs": [],
     "prompt_number": 222
    },
    {
     "cell_type": "code",
     "collapsed": false,
     "input": [
      "sa_columns = list(sa.columns)"
     ],
     "language": "python",
     "metadata": {},
     "outputs": [],
     "prompt_number": 223
    },
    {
     "cell_type": "code",
     "collapsed": false,
     "input": [
      "dimensions = ['Week', 'Date', 'Campaign', 'Site (DCM)', 'Click-through URL', 'F Tag', 'Category', 'Message Bucket', 'Message Category', \n",
      "              'Message Offer', 'Creative', 'Ad', 'Creative Groups 1', 'Creative Groups 2', 'Creative ID', 'Creative Type', \n",
      "              'Creative Field 1', 'Placement', 'Placement Cost Structure', 'OrderNumber (string)', 'Activity', 'Floodlight Attribution Type',\n",
      "              'Plan (string)', 'Device (string)', 'Service (string)', 'Accessory (string)']\n",
      "\n",
      "metrics = ['Media Cost', 'Impressions', 'Clicks', 'Orders', 'Plans', 'Add-a-Line', 'Activations', 'Devices', 'Services', 'Accessories',\n",
      "           'Prepaid Plans', 'Store Locator Visits', 'A Actions', 'B Actions', 'C Actions', 'D Actions', 'E Actions', 'F Actions', \n",
      "           'Awareness Actions', 'Consideration Actions', 'Traffic Actions', 'Post-Click Activity', 'Post-Impression Activity',\n",
      "           'Video Completions', 'Video Views']"
     ],
     "language": "python",
     "metadata": {},
     "outputs": [],
     "prompt_number": 224
    },
    {
     "cell_type": "code",
     "collapsed": false,
     "input": [
      "action_tags = sa_columns[sa_columns.index('DBM Cost USD') + 1:]"
     ],
     "language": "python",
     "metadata": {},
     "outputs": [],
     "prompt_number": 225
    },
    {
     "cell_type": "code",
     "collapsed": false,
     "input": [
      "new_columns = dimensions + metrics + action_tags"
     ],
     "language": "python",
     "metadata": {},
     "outputs": [],
     "prompt_number": 226
    },
    {
     "cell_type": "code",
     "collapsed": false,
     "input": [
      "new_appended = appended[new_columns]"
     ],
     "language": "python",
     "metadata": {},
     "outputs": [],
     "prompt_number": 227
    },
    {
     "cell_type": "code",
     "collapsed": false,
     "input": [
      "Range('working', 'A1').horizontal.value = list(new_appended.columns)\n",
      "chunk_df(new_appended, 'working', 'A2')"
     ],
     "language": "python",
     "metadata": {},
     "outputs": [],
     "prompt_number": 228
    },
    {
     "cell_type": "code",
     "collapsed": false,
     "input": [
      "f_tag_range = Range('working', 'F2').vertical\n",
      "\n",
      "for cell in f_tag_range:\n",
      "    url = cell.offset(0, -1).get_address(False, False, False)\n",
      "    cell.formula = '=IF(' + url + '=\"http://www.t-mobile.com/\",\"na\",IFERROR(INDEX(F_Tags!C:C,MATCH(working!' + url + ',F_Tags!E:E,0)),\"na\"))'\n",
      "    \n",
      "new_appended['F Tag'] = Range('working', 'F2').vertical.value"
     ],
     "language": "python",
     "metadata": {},
     "outputs": [],
     "prompt_number": 229
    },
    {
     "cell_type": "code",
     "collapsed": false,
     "input": [
      "f_tag_list = []\n",
      "for i in new_appended['F Tag']:\n",
      "    for j in new_appended.columns:\n",
      "        tag = re.search(i, j)\n",
      "        if tag:\n",
      "            f_tag_list.append(j)"
     ],
     "language": "python",
     "metadata": {},
     "outputs": [],
     "prompt_number": 230
    },
    {
     "cell_type": "code",
     "collapsed": false,
     "input": [
      "f_tag_list2 = list(set(f_tag_list).intersection(new_appended.columns))\n",
      "f_conversions = list(set(f_tag_list2).intersection(new_appended.columns))"
     ],
     "language": "python",
     "metadata": {},
     "outputs": [],
     "prompt_number": 231
    },
    {
     "cell_type": "code",
     "collapsed": false,
     "input": [
      "new_appended['F Actions'] = new_appended[f_conversions].sum(axis=1)"
     ],
     "language": "python",
     "metadata": {},
     "outputs": [],
     "prompt_number": 232
    },
    {
     "cell_type": "code",
     "collapsed": false,
     "input": [
      "data_columns = dimensions + metrics + action_tags"
     ],
     "language": "python",
     "metadata": {},
     "outputs": [],
     "prompt_number": 233
    },
    {
     "cell_type": "code",
     "collapsed": false,
     "input": [
      "data = new_appended[data_columns]\n",
      "data.fillna(0, inplace = True)"
     ],
     "language": "python",
     "metadata": {},
     "outputs": [],
     "prompt_number": 234
    },
    {
     "cell_type": "code",
     "collapsed": false,
     "input": [
      "Range('data', 'A1').value = list(data.columns)\n",
      "chunk_df(data, 'data', 'A2')"
     ],
     "language": "python",
     "metadata": {},
     "outputs": [],
     "prompt_number": 235
    },
    {
     "cell_type": "code",
     "collapsed": false,
     "input": [
      "Range('data', 'G1').value ="
     ],
     "language": "python",
     "metadata": {},
     "outputs": []
    }
   ],
   "metadata": {}
  }
 ]
}