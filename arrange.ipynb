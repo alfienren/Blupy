{
 "metadata": {
  "name": "",
  "signature": "sha256:bfd3a957b9b4b3adf352da892caaa9233db1bed68265bec21b9bc22443f05b34"
 },
 "nbformat": 3,
 "nbformat_minor": 0,
 "worksheets": [
  {
   "cells": [
    {
     "cell_type": "heading",
     "level": 4,
     "metadata": {},
     "source": [
      "Load necessary packages"
     ]
    },
    {
     "cell_type": "code",
     "collapsed": false,
     "input": [
      "import pandas as pd\n",
      "import numpy as np\n",
      "from xlwings import Workbook, Range, Sheet\n",
      "import re"
     ],
     "language": "python",
     "metadata": {},
     "outputs": [],
     "prompt_number": 120
    },
    {
     "cell_type": "heading",
     "level": 4,
     "metadata": {},
     "source": [
      "Open the working Excel sheet"
     ]
    },
    {
     "cell_type": "code",
     "collapsed": false,
     "input": [
      "wb = Workbook(\"C:/Users/aarschle1/Google Drive/Optimedia/T-Mobile/Projects/Weekly_Reporting/Opti_DFA_Weekly_Reporting.xlsm\")"
     ],
     "language": "python",
     "metadata": {},
     "outputs": [],
     "prompt_number": 121
    },
    {
     "cell_type": "heading",
     "level": 4,
     "metadata": {},
     "source": [
      "A VBA subroutinue will create and add the required data to the sheets \"SA_Temp\" and \"CFV_Temp\". Create pandas DataFrames from this data."
     ]
    },
    {
     "cell_type": "code",
     "collapsed": false,
     "input": [
      "sa = Range(\"SA_Temp\", \"A2\").table.value\n",
      "cfv = Range(\"CFV_Temp\", \"A2\").table.value"
     ],
     "language": "python",
     "metadata": {},
     "outputs": [],
     "prompt_number": 122
    },
    {
     "cell_type": "heading",
     "level": 4,
     "metadata": {},
     "source": [
      "Set the column names of the DataFrame"
     ]
    },
    {
     "cell_type": "code",
     "collapsed": false,
     "input": [
      "sa = pd.DataFrame(sa, columns = Range(\"SA_Temp\", \"A1\").horizontal.value)\n",
      "cfv = pd.DataFrame(cfv, columns = Range(\"CFV_Temp\", \"A1\").horizontal.value)"
     ],
     "language": "python",
     "metadata": {},
     "outputs": [],
     "prompt_number": 123
    },
    {
     "cell_type": "heading",
     "level": 4,
     "metadata": {},
     "source": [
      "Append the CFV data to the SA data and fill N/A values with 0."
     ]
    },
    {
     "cell_type": "code",
     "collapsed": false,
     "input": [
      "appended = sa.append(cfv)\n",
      "appended = appended.fillna(0)"
     ],
     "language": "python",
     "metadata": {},
     "outputs": [],
     "prompt_number": 124
    },
    {
     "cell_type": "heading",
     "level": 4,
     "metadata": {},
     "source": [
      "With the appended DataFrame, group the data, i.e. compress it, by each column below."
     ]
    },
    {
     "cell_type": "code",
     "collapsed": false,
     "input": [
      "appended = appended.groupby(['Campaign', 'Date', 'Site (DFA)', 'Creative', 'Click-through URL', 'Ad', 'Creative Groups 1',\n",
      "                             'Creative Groups 2', 'Creative ID', 'Creative Type', 'Creative Field 1', 'Placement',   \n",
      "                             'Placement Cost Structure', 'Device (string)', 'Floodlight Attribution Type', 'OrderNumber (string)',\n",
      "                             'Plan (string)', 'Service (string)']).aggregate(np.sum)"
     ],
     "language": "python",
     "metadata": {},
     "outputs": [],
     "prompt_number": 125
    },
    {
     "cell_type": "heading",
     "level": 4,
     "metadata": {},
     "source": [
      "Again, fill in N/A values with 0"
     ]
    },
    {
     "cell_type": "code",
     "collapsed": false,
     "input": [
      "appended = appended.fillna(0)"
     ],
     "language": "python",
     "metadata": {},
     "outputs": [],
     "prompt_number": 126
    },
    {
     "cell_type": "heading",
     "level": 4,
     "metadata": {},
     "source": [
      "Copy the new DataFrame into the Excel sheet on the working tab. Create a new DataFrame off of this data"
     ]
    },
    {
     "cell_type": "code",
     "collapsed": false,
     "input": [
      "Range('working', 'A1').value = appended\n",
      "appended = pd.DataFrame(Range('working', 'A2').table.value, columns=Range('working', 'A1').horizontal.value)\n",
      "Range('working', 'A1').value = appended"
     ],
     "language": "python",
     "metadata": {},
     "outputs": [],
     "prompt_number": 127
    },
    {
     "cell_type": "heading",
     "level": 4,
     "metadata": {},
     "source": [
      "Using the list of actions in the 'Action Reference' tab of the Excel sheet, set lists for each action category."
     ]
    },
    {
     "cell_type": "code",
     "collapsed": false,
     "input": [
      "a_actions = Range('Action_Reference', 'A2').vertical.value\n",
      "b_actions = Range('Action_Reference', 'B2').vertical.value\n",
      "c_actions = Range('Action_Reference', 'C2').vertical.value\n",
      "d_actions = Range('Action_Reference', 'D2').vertical.value\n",
      "e_actions = Range('Action_Reference', 'E2').vertical.value\n",
      "\n",
      "col_head = Range('working', 'A1').horizontal.value"
     ],
     "language": "python",
     "metadata": {},
     "outputs": [],
     "prompt_number": 128
    },
    {
     "cell_type": "heading",
     "level": 4,
     "metadata": {},
     "source": [
      "Set the actions to lists and search the DataFrame columns for each one, summing each value when found."
     ]
    },
    {
     "cell_type": "code",
     "collapsed": false,
     "input": [
      "a_actions = list(set(a_actions).intersection(col_head))\n",
      "b_actions = list(set(b_actions).intersection(col_head))\n",
      "c_actions = list(set(b_actions).intersection(col_head))\n",
      "d_actions = list(set(d_actions).intersection(col_head))\n",
      "e_actions = list(set(e_actions).intersection(col_head))"
     ],
     "language": "python",
     "metadata": {},
     "outputs": [],
     "prompt_number": 129
    },
    {
     "cell_type": "code",
     "collapsed": false,
     "input": [
      "view_through = []\n",
      "i = iter(view_through)\n",
      "for item in col_head:\n",
      "    view = re.search('View-through Conversions', item)\n",
      "    if view:\n",
      "        view_through.append(item)\n",
      "        i.next()\n",
      "\n",
      "click_through = []\n",
      "j = iter(click_through)\n",
      "for item in col_head:\n",
      "    click = re.search('Click-through Conversions', item)\n",
      "    if click:\n",
      "        click_through.append(item)\n",
      "        j.next()"
     ],
     "language": "python",
     "metadata": {},
     "outputs": [],
     "prompt_number": 130
    },
    {
     "cell_type": "code",
     "collapsed": false,
     "input": [
      "view_based = list(set(view_through).intersection(col_head))\n",
      "click_based = list(set(click_through).intersection(col_head))"
     ],
     "language": "python",
     "metadata": {},
     "outputs": [],
     "prompt_number": 131
    },
    {
     "cell_type": "heading",
     "level": 4,
     "metadata": {},
     "source": [
      "Add columns to the DataFrame for each action category"
     ]
    },
    {
     "cell_type": "code",
     "collapsed": false,
     "input": [
      "appended['A Actions'] = appended[a_actions].sum(axis=1)\n",
      "appended['B Actions'] = appended[b_actions].sum(axis=1)\n",
      "appended['C Actions'] = appended[c_actions].sum(axis=1)\n",
      "appended['D Actions'] = appended[d_actions].sum(axis=1)\n",
      "appended['E Actions'] = appended[e_actions].sum(axis=1)\n",
      "\n",
      "appended['Click Based'] = appended[click_based].sum(axis=1)\n",
      "appended['View Based'] = appended[view_based].sum(axis=1)"
     ],
     "language": "python",
     "metadata": {},
     "outputs": [],
     "prompt_number": 132
    },
    {
     "cell_type": "heading",
     "level": 4,
     "metadata": {},
     "source": [
      "Store Locator"
     ]
    },
    {
     "cell_type": "code",
     "collapsed": false,
     "input": [
      "store_locator = []\n",
      "k = iter(store_locator)\n",
      "for item in col_head:\n",
      "    locator = re.search('Store Locator', item)\n",
      "    if locator:\n",
      "        store_locator.append(item)\n",
      "        k.next()"
     ],
     "language": "python",
     "metadata": {},
     "outputs": [],
     "prompt_number": 133
    },
    {
     "cell_type": "code",
     "collapsed": false,
     "input": [
      "SLV_conversions = list(set(store_locator).intersection(col_head))\n",
      "appended['Store Locator Visits'] = appended[store_locator].sum(axis=1)"
     ],
     "language": "python",
     "metadata": {},
     "outputs": [],
     "prompt_number": 134
    },
    {
     "cell_type": "heading",
     "level": 4,
     "metadata": {},
     "source": [
      "Traffic Action Totals"
     ]
    },
    {
     "cell_type": "code",
     "collapsed": false,
     "input": [
      "appended['Awareness Actions'] = appended['A Actions'] + appended['B Actions']\n",
      "appended['Consideration Actions'] = appended['C Actions'] + appended['D Actions']\n",
      "appended['Traffic Actions'] = appended['Awareness Actions'] + appended['Consideration Actions']"
     ],
     "language": "python",
     "metadata": {},
     "outputs": [],
     "prompt_number": 135
    },
    {
     "cell_type": "heading",
     "level": 4,
     "metadata": {},
     "source": [
      "Message Categories"
     ]
    },
    {
     "cell_type": "code",
     "collapsed": false,
     "input": [
      "appended['Creative Field 1'] = appended['Creative Field 1'].str.replace('Creative Type: ', '')\n",
      "\n",
      "appended['Creative Field 1'] = appended['Creative Field 1'].str.replace('(', '')\n",
      "appended['Creative Field 1'] = appended['Creative Field 1'].str.replace(')', '')\n",
      "appended['Creative Field 1'] = appended['Creative Field 1'].str.replace('not set', 'TMO Unique Creative')\n",
      "\n",
      "appended['Message Bucket'] = appended['Creative Field 1'].str.split('_').str.get(0)\n",
      "\n",
      "appended['Message Category'] = appended['Creative Field 1'].str.split('_').str.get(1)\n",
      "\n",
      "appended['Message Offer'] = appended['Creative Field 1'].str.split('_').str.get(2)\n",
      "appended['Message Offer'].fillna(appended['Creative Groups 2'], inplace=True)"
     ],
     "language": "python",
     "metadata": {},
     "outputs": [],
     "prompt_number": 155
    },
    {
     "cell_type": "heading",
     "level": 4,
     "metadata": {},
     "source": [
      "Strip the embedded URL encoding used by BlueKai to get the actual URL."
     ]
    },
    {
     "cell_type": "code",
     "collapsed": false,
     "input": [
      "appended['Click-through URL'] = appended['Click-through URL'].str.replace('http://analytics.bluekai.com/site/', '')\n",
      "appended['Click-through URL'] = appended['Click-through URL'].str.replace('15991\\?phint', '')\n",
      "appended['Click-through URL'] = appended['Click-through URL'].str.replace('http://15991\\?phint', '')\n",
      "appended['Click-through URL'] = appended['Click-through URL'].str.replace('event%3Dclick&phint', '')\n",
      "appended['Click-through URL'] = appended['Click-through URL'].str.replace('event%3Dclick&phint', '')\n",
      "appended['Click-through URL'] = appended['Click-through URL'].str.replace('aid%3D%eadv!&phint', '')\n",
      "appended['Click-through URL'] = appended['Click-through URL'].str.replace('pid%3D%epid!&phint', '')\n",
      "appended['Click-through URL'] = appended['Click-through URL'].str.replace('cid%3D%ebuy!&phint', '')\n",
      "appended['Click-through URL'] = appended['Click-through URL'].str.replace('crid%3D%ecid!&done', '')\n",
      "appended['Click-through URL'] = appended['Click-through URL'].str.replace('pid%3D%25epid!&phint', '')\n",
      "appended['Click-through URL'] = appended['Click-through URL'].str.replace('%3Fcmpid%3DWTR_DD_DDRFCBK_RQLMKXRCUQZ1042%26csdids%3D%epid!_%eaid!_%ecid!_%eadv!', '')\n",
      "appended['Click-through URL'] = appended['Click-through URL'].str.replace('%3F%26csdids%3DADV_DS_%epid!_%eaid!_%ecid!_%eadv!', '')\n",
      "appended['Click-through URL'] = appended['Click-through URL'].str.replace('=', '')\n",
      "appended['Click-through URL'] = appended['Click-through URL'].str.replace('%2F', '/')\n",
      "appended['Click-through URL'] = appended['Click-through URL'].str.replace('%3A', ':')\n",
      "appended['Click-through URL'] = appended['Click-through URL'].str.replace('%23', '#')\n",
      "appended['Click-through URL'] = appended['Click-through URL'].apply(lambda x: x.split('.html')[0])\n",
      "appended['Click-through URL'] = appended['Click-through URL'].apply(lambda x: x.split('?')[0])"
     ],
     "language": "python",
     "metadata": {},
     "outputs": [],
     "prompt_number": 102
    },
    {
     "cell_type": "code",
     "collapsed": false,
     "input": [],
     "language": "python",
     "metadata": {},
     "outputs": []
    }
   ],
   "metadata": {}
  }
 ]
}