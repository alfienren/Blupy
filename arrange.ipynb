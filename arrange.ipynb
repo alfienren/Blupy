{
 "metadata": {
  "name": "",
  "signature": "sha256:e24ac36f9d0adeda8b95af72244e6a83d3d266cdbed2e01a8380c1d2a53647cf"
 },
 "nbformat": 3,
 "nbformat_minor": 0,
 "worksheets": [
  {
   "cells": [
    {
     "cell_type": "code",
     "collapsed": false,
     "input": [
      "import pandas as pd\n",
      "import numpy as np\n",
      "from xlwings import Workbook, Range, Sheet"
     ],
     "language": "python",
     "metadata": {},
     "outputs": [],
     "prompt_number": 1
    },
    {
     "cell_type": "code",
     "collapsed": false,
     "input": [
      "wb = Workbook(\"C:/Users/aarschle1/Google Drive/Optimedia/T-Mobile/Projects/Weekly_Reporting/Opti_DFA_Weekly_Reporting.xlsm\")"
     ],
     "language": "python",
     "metadata": {},
     "outputs": [],
     "prompt_number": 2
    },
    {
     "cell_type": "code",
     "collapsed": false,
     "input": [
      "sa = Range(\"SA_Temp\", \"A2\").table.value\n",
      "cfv = Range(\"CFV_Temp\", \"A2\").table.value"
     ],
     "language": "python",
     "metadata": {},
     "outputs": [],
     "prompt_number": 215
    },
    {
     "cell_type": "code",
     "collapsed": false,
     "input": [
      "sa = pd.DataFrame(sa, columns = Range(\"SA_Temp\", \"A1\").horizontal.value)\n",
      "cfv = pd.DataFrame(cfv, columns = Range(\"CFV_Temp\", \"A1\").horizontal.value)"
     ],
     "language": "python",
     "metadata": {},
     "outputs": [],
     "prompt_number": 227
    },
    {
     "cell_type": "code",
     "collapsed": false,
     "input": [
      "appended = sa.append(cfv)"
     ],
     "language": "python",
     "metadata": {},
     "outputs": [],
     "prompt_number": 228
    },
    {
     "cell_type": "code",
     "collapsed": false,
     "input": [
      "Range('working', 'A1').value = appended"
     ],
     "language": "python",
     "metadata": {},
     "outputs": [],
     "prompt_number": 229
    },
    {
     "cell_type": "code",
     "collapsed": false,
     "input": [
      "appended = appended.groupby(['Campaign', 'Date', 'Site', 'Creative', 'Click-through URL', 'Ad', 'Creative Groups 1',\n",
      "                             'Creative Groups 2', 'Creative ID', 'Creative Type', 'Creative Field 1', 'Placement',   \n",
      "                             'Placement Cost Structure', 'Device (string)', 'Floodlight Attribution Type', 'OrderNumber (string)',\n",
      "                             'Plan (string)', 'Service (string)']).aggregate(np.sum)"
     ],
     "language": "python",
     "metadata": {},
     "outputs": [],
     "prompt_number": 230
    },
    {
     "cell_type": "code",
     "collapsed": false,
     "input": [
      "appended = appended.fillna(0)"
     ],
     "language": "python",
     "metadata": {},
     "outputs": [],
     "prompt_number": 231
    },
    {
     "cell_type": "code",
     "collapsed": false,
     "input": [
      "Range('working', 'A1').value = appended\n",
      "appended = Range('working', 'A2').table.value\n",
      "appended = pd.DataFrame(appended, columns = Range('working', 'A1').horizontal.value)"
     ],
     "language": "python",
     "metadata": {},
     "outputs": [],
     "prompt_number": 222
    },
    {
     "cell_type": "code",
     "collapsed": false,
     "input": [
      "view_based = Range('Action_Reference', 'A2').vertical.value\n",
      "click_based = Range('Action_Reference', 'B2').vertical.value\n",
      "a_actions = Range('Action_Reference', 'C2').vertical.value\n",
      "b_actions = Range('Action_Reference', 'D2').vertical.value\n",
      "c_actions = Range('Action_Reference', 'E2').vertical.value\n",
      "d_actions = Range('Action_Reference', 'F2').vertical.value\n",
      "e_actions = Range('Action_Reference', 'G2').vertical.value\n",
      "\n",
      "col_head = Range('working', 'A1').horizontal.value"
     ],
     "language": "python",
     "metadata": {},
     "outputs": [],
     "prompt_number": 223
    },
    {
     "cell_type": "code",
     "collapsed": false,
     "input": [
      "a_actions = list(set(a_actions).intersection(col_head))\n",
      "b_actions = list(set(b_actions).intersection(col_head))\n",
      "c_actions = list(set(b_actions).intersection(col_head))\n",
      "d_actions = list(set(d_actions).intersection(col_head))\n",
      "e_actions = list(set(e_actions).intersection(col_head))\n",
      "\n",
      "view_based = list(set(view_based).intersection(col_head))\n",
      "click_based = list(set(click_based).intersection(col_head))"
     ],
     "language": "python",
     "metadata": {},
     "outputs": [],
     "prompt_number": 224
    },
    {
     "cell_type": "code",
     "collapsed": false,
     "input": [
      "appended['A Actions'] = appended[a_actions].sum(axis=1)\n",
      "appended['B Actions'] = appended[b_actions].sum(axis=1)\n",
      "appended['C Actions'] = appended[c_actions].sum(axis=1)\n",
      "appended['D Actions'] = appended[d_actions].sum(axis=1)\n",
      "appended['E Actions'] = appended[e_actions].sum(axis=1)\n",
      "\n",
      "appended['Click Based'] = appended[click_based].sum(axis=1)\n",
      "appended['View Based'] = appended[view_based].sum(axis=1)"
     ],
     "language": "python",
     "metadata": {},
     "outputs": [],
     "prompt_number": 225
    },
    {
     "cell_type": "code",
     "collapsed": false,
     "input": [
      "Range('Sheet1', 'A1').value = appended"
     ],
     "language": "python",
     "metadata": {},
     "outputs": [],
     "prompt_number": 226
    },
    {
     "cell_type": "code",
     "collapsed": false,
     "input": [],
     "language": "python",
     "metadata": {},
     "outputs": []
    }
   ],
   "metadata": {}
  }
 ]
}