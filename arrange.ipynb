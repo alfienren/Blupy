{
 "metadata": {
  "name": "",
  "signature": "sha256:ec5785409438144465d8c637996a93d9dffc9498e4cf9ea423fc6335284060d5"
 },
 "nbformat": 3,
 "nbformat_minor": 0,
 "worksheets": [
  {
   "cells": [
    {
     "cell_type": "code",
     "collapsed": false,
     "input": [
      "import pandas as pd\n",
      "import numpy as np\n",
      "from xlwings import Workbook, Range, Sheet"
     ],
     "language": "python",
     "metadata": {},
     "outputs": [],
     "prompt_number": 1
    },
    {
     "cell_type": "code",
     "collapsed": false,
     "input": [
      "wb = Workbook(\"C:/Users/aarschle1/Google Drive/Optimedia/T-Mobile/Projects/Weekly_Reporting/Opti_DFA_Weekly_Reporting.xlsm\")"
     ],
     "language": "python",
     "metadata": {},
     "outputs": [],
     "prompt_number": 2
    },
    {
     "cell_type": "code",
     "collapsed": false,
     "input": [
      "sa = Range(\"SA_Temp\", \"A2\").table.value\n",
      "cfv = Range(\"CFV_Temp\", \"A2\").table.value"
     ],
     "language": "python",
     "metadata": {},
     "outputs": [],
     "prompt_number": 328
    },
    {
     "cell_type": "code",
     "collapsed": false,
     "input": [
      "sa = pd.DataFrame(sa, columns = Range(\"SA_Temp\", \"A1\").horizontal.value)\n",
      "cfv = pd.DataFrame(cfv, columns = Range(\"CFV_Temp\", \"A1\").horizontal.value)"
     ],
     "language": "python",
     "metadata": {},
     "outputs": [],
     "prompt_number": 329
    },
    {
     "cell_type": "code",
     "collapsed": false,
     "input": [
      "appended = sa.append(cfv)\n",
      "appended = appended.fillna(0)"
     ],
     "language": "python",
     "metadata": {},
     "outputs": [],
     "prompt_number": 330
    },
    {
     "cell_type": "code",
     "collapsed": false,
     "input": [
      "Range('working', 'A1').value = appended"
     ],
     "language": "python",
     "metadata": {},
     "outputs": [],
     "prompt_number": 331
    },
    {
     "cell_type": "code",
     "collapsed": false,
     "input": [
      "appended = appended.groupby(['Campaign', 'Date', 'Site (DFA)', 'Creative', 'Click-through URL', 'Ad', 'Creative Groups 1',\n",
      "                             'Creative Groups 2', 'Creative ID', 'Creative Type', 'Creative Field 1', 'Placement',   \n",
      "                             'Placement Cost Structure', 'Device (string)', 'Floodlight Attribution Type', 'OrderNumber (string)',\n",
      "                             'Plan (string)', 'Service (string)']).aggregate(np.sum)"
     ],
     "language": "python",
     "metadata": {},
     "outputs": [],
     "prompt_number": 332
    },
    {
     "cell_type": "code",
     "collapsed": false,
     "input": [
      "appended = appended.fillna(0)"
     ],
     "language": "python",
     "metadata": {},
     "outputs": [],
     "prompt_number": 333
    },
    {
     "cell_type": "code",
     "collapsed": false,
     "input": [
      "Range('working', 'A1').value = appended"
     ],
     "language": "python",
     "metadata": {},
     "outputs": [],
     "prompt_number": 334
    },
    {
     "cell_type": "code",
     "collapsed": false,
     "input": [
      "view_based = Range('Action_Reference', 'A2').vertical.value\n",
      "click_based = Range('Action_Reference', 'B2').vertical.value\n",
      "a_actions = Range('Action_Reference', 'C2').vertical.value\n",
      "b_actions = Range('Action_Reference', 'D2').vertical.value\n",
      "c_actions = Range('Action_Reference', 'E2').vertical.value\n",
      "d_actions = Range('Action_Reference', 'F2').vertical.value\n",
      "e_actions = Range('Action_Reference', 'G2').vertical.value\n",
      "#test_actions = Range('Action_Reference', 'H1').vertical.value\n",
      "\n",
      "col_head = Range('working', 'A1').horizontal.value"
     ],
     "language": "python",
     "metadata": {},
     "outputs": [],
     "prompt_number": 335
    },
    {
     "cell_type": "code",
     "collapsed": false,
     "input": [
      "a_actions = list(set(a_actions).intersection(col_head))\n",
      "b_actions = list(set(b_actions).intersection(col_head))\n",
      "c_actions = list(set(b_actions).intersection(col_head))\n",
      "d_actions = list(set(d_actions).intersection(col_head))\n",
      "e_actions = list(set(e_actions).intersection(col_head))\n",
      "#test_actions = list(set(test_actions).intersection(col_head))\n",
      "\n",
      "view_based = list(set(view_based).intersection(col_head))\n",
      "click_based = list(set(click_based).intersection(col_head))"
     ],
     "language": "python",
     "metadata": {},
     "outputs": [],
     "prompt_number": 336
    },
    {
     "cell_type": "code",
     "collapsed": false,
     "input": [
      "appended['A Actions'] = appended[a_actions].sum(axis=1)\n",
      "appended['B Actions'] = appended[b_actions].sum(axis=1)\n",
      "appended['C Actions'] = appended[c_actions].sum(axis=1)\n",
      "appended['D Actions'] = appended[d_actions].sum(axis=1)\n",
      "appended['E Actions'] = appended[e_actions].sum(axis=1)\n",
      "#appended['Test Actions'] = appended[test_actions].sum(axis=1)\n",
      "\n",
      "appended['Click Based'] = appended[click_based].sum(axis=1)\n",
      "appended['View Based'] = appended[view_based].sum(axis=1)"
     ],
     "language": "python",
     "metadata": {},
     "outputs": [],
     "prompt_number": 337
    },
    {
     "cell_type": "code",
     "collapsed": false,
     "input": [
      "Range('Sheet1', 'A1').value = appended\n",
      "appended = Range('Sheet1', 'A1').table.value\n",
      "appended = pd.DataFrame(appended, columns=Range('Sheet1', 'A1').horizontal.value)"
     ],
     "language": "python",
     "metadata": {},
     "outputs": [],
     "prompt_number": 338
    },
    {
     "cell_type": "code",
     "collapsed": false,
     "input": [
      "from urlparse import urlsplit\n",
      "from urlparse import parse_qs\n",
      "import re"
     ],
     "language": "python",
     "metadata": {},
     "outputs": [],
     "prompt_number": 377
    },
    {
     "cell_type": "code",
     "collapsed": false,
     "input": [
      "url = urlsplit(appended['Click-through URL'][1])"
     ],
     "language": "python",
     "metadata": {},
     "outputs": [],
     "prompt_number": 393
    },
    {
     "cell_type": "code",
     "collapsed": false,
     "input": [
      "url"
     ],
     "language": "python",
     "metadata": {},
     "outputs": [
      {
       "metadata": {},
       "output_type": "pyout",
       "prompt_number": 394,
       "text": [
        "SplitResult(scheme=u'http', netloc=u'analytics.bluekai.com', path=u'/site/15991', query=u'phint=event%3Dclick&phint=aid%3D%eadv!&phint=pid%3D%epid!&phint=cid%3D%ebuy!&phint=crid%3D%ecid!&done=http%3A%2F%2Fexplore.t-mobile.com%2Fforbusiness%3F%26csdids%3DADV_DS_%epid!_%eaid!_%ecid!_%eadv!', fragment='')"
       ]
      }
     ],
     "prompt_number": 394
    },
    {
     "cell_type": "code",
     "collapsed": false,
     "input": [
      "url.query"
     ],
     "language": "python",
     "metadata": {},
     "outputs": [
      {
       "metadata": {},
       "output_type": "pyout",
       "prompt_number": 395,
       "text": [
        "u'phint=event%3Dclick&phint=aid%3D%eadv!&phint=pid%3D%epid!&phint=cid%3D%ebuy!&phint=crid%3D%ecid!&done=http%3A%2F%2Fexplore.t-mobile.com%2Fforbusiness%3F%26csdids%3DADV_DS_%epid!_%eaid!_%ecid!_%eadv!'"
       ]
      }
     ],
     "prompt_number": 395
    },
    {
     "cell_type": "code",
     "collapsed": false,
     "input": [
      "query = parse_qs(url.query)"
     ],
     "language": "python",
     "metadata": {},
     "outputs": [],
     "prompt_number": 396
    },
    {
     "cell_type": "code",
     "collapsed": false,
     "input": [
      "query"
     ],
     "language": "python",
     "metadata": {},
     "outputs": [
      {
       "metadata": {},
       "output_type": "pyout",
       "prompt_number": 397,
       "text": [
        "{u'done': [u'http://explore.t-mobile.com/forbusiness?&csdids=ADV_DS_%epid!_\\xeaid!_\\xecid!_\\xeadv!'],\n",
        " u'phint': [u'event=click',\n",
        "  u'aid=\\xeadv!',\n",
        "  u'pid=%epid!',\n",
        "  u'cid=\\xebuy!',\n",
        "  u'crid=\\xecid!']}"
       ]
      }
     ],
     "prompt_number": 397
    },
    {
     "cell_type": "code",
     "collapsed": false,
     "input": [
      "query['done'].partition('?')"
     ],
     "language": "python",
     "metadata": {},
     "outputs": [
      {
       "ename": "TypeError",
       "evalue": "list indices must be integers, not str",
       "output_type": "pyerr",
       "traceback": [
        "\u001b[1;31m---------------------------------------------------------------------------\u001b[0m\n\u001b[1;31mTypeError\u001b[0m                                 Traceback (most recent call last)",
        "\u001b[1;32m<ipython-input-402-f0b09d15854d>\u001b[0m in \u001b[0;36m<module>\u001b[1;34m()\u001b[0m\n\u001b[1;32m----> 1\u001b[1;33m \u001b[0mquery\u001b[0m\u001b[1;33m[\u001b[0m\u001b[1;34m'done'\u001b[0m\u001b[1;33m]\u001b[0m\u001b[1;33m.\u001b[0m\u001b[0mpartition\u001b[0m\u001b[1;33m(\u001b[0m\u001b[1;34m'?'\u001b[0m\u001b[1;33m)\u001b[0m\u001b[1;33m\u001b[0m\u001b[0m\n\u001b[0m",
        "\u001b[1;31mTypeError\u001b[0m: list indices must be integers, not str"
       ]
      }
     ],
     "prompt_number": 402
    }
   ],
   "metadata": {}
  }
 ]
}