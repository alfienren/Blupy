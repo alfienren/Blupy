{
 "metadata": {
  "name": "",
  "signature": "sha256:82d2e747eaf7beb5dd35c248ac859b927da63be58231dedbbba97b8dbfa71534"
 },
 "nbformat": 3,
 "nbformat_minor": 0,
 "worksheets": [
  {
   "cells": [
    {
     "cell_type": "heading",
     "level": 4,
     "metadata": {},
     "source": [
      "Load necessary packages"
     ]
    },
    {
     "cell_type": "code",
     "collapsed": false,
     "input": [
      "import pandas as pd\n",
      "import numpy as np\n",
      "from xlwings import Workbook, Range, Sheet\n",
      "import re\n",
      "import itertools\n",
      "from splinter import Browser\n",
      "from bs4 import BeautifulSoup"
     ],
     "language": "python",
     "metadata": {},
     "outputs": [],
     "prompt_number": 1
    },
    {
     "cell_type": "heading",
     "level": 4,
     "metadata": {},
     "source": [
      "Open the working Excel sheet"
     ]
    },
    {
     "cell_type": "code",
     "collapsed": false,
     "input": [
      "wb = Workbook(\"C:/Users/aarschle1/Google Drive/Optimedia/T-Mobile/Projects/Weekly_Reporting/Opti_DFA_Weekly_Reporting.xlsm\")"
     ],
     "language": "python",
     "metadata": {},
     "outputs": [],
     "prompt_number": 2
    },
    {
     "cell_type": "heading",
     "level": 4,
     "metadata": {},
     "source": [
      "A VBA subroutinue will create and add the required data to the sheets \"SA_Temp\" and \"CFV_Temp\". Create pandas DataFrames from this data."
     ]
    },
    {
     "cell_type": "code",
     "collapsed": false,
     "input": [
      "sa = Range(\"SA_Temp\", \"A1\").table.value\n",
      "cfv = Range(\"CFV_Temp\", \"A1\").table.value"
     ],
     "language": "python",
     "metadata": {},
     "outputs": [],
     "prompt_number": 3
    },
    {
     "cell_type": "heading",
     "level": 4,
     "metadata": {},
     "source": [
      "Set the column names of the DataFrame"
     ]
    },
    {
     "cell_type": "code",
     "collapsed": false,
     "input": [
      "sa = pd.DataFrame(Range(\"SA_Temp\", \"A1\").table.value, columns = Range(\"SA_Temp\", \"A1\").horizontal.value)\n",
      "cfv = pd.DataFrame(Range(\"CFV_Temp\", \"A1\").table.value, columns = Range(\"CFV_Temp\", \"A1\").horizontal.value)\n",
      "\n",
      "sa = sa.drop(0)\n",
      "cfv = cfv.drop(0)"
     ],
     "language": "python",
     "metadata": {},
     "outputs": [],
     "prompt_number": 4
    },
    {
     "cell_type": "heading",
     "level": 4,
     "metadata": {},
     "source": [
      "Transform CFV Data"
     ]
    },
    {
     "cell_type": "code",
     "collapsed": false,
     "input": [
      "cfv['Orders'] = 1"
     ],
     "language": "python",
     "metadata": {},
     "outputs": [],
     "prompt_number": 5
    },
    {
     "cell_type": "code",
     "collapsed": false,
     "input": [
      "cfv['Plans'] = cfv['Plan (string)'].str.count(',') + 1\n",
      "cfv['Devices'] = cfv['Device (string)'].str.count(',') + 1\n",
      "cfv['Services'] = cfv['Service (string)'].str.count(',') + 1\n",
      "cfv['Add-a-Line'] = cfv['Service (string)'].str.count('ADD')\n",
      "cfv['Accessories'] = cfv['Accessory (string)'].str.count(',') + 1\n",
      "cfv['Activations'] = cfv['Plans'] + cfv['Add-a-Line']\n",
      "\n",
      "cfv['Plans'] = cfv['Plans'].fillna(0)\n",
      "cfv['Devices'] = cfv['Devices'].fillna(0)\n",
      "cfv['Services'] = cfv['Services'].fillna(0)\n",
      "cfv['Add-a-Line'] = cfv['Add-a-Line'].fillna(0)\n",
      "cfv['Accessories'] = cfv['Accessories'].fillna(0)\n",
      "\n",
      "postpaid = np.where(cfv['Plans'] == cfv['Devices'], cfv['Plans'], pd.concat([cfv['Plans'], cfv['Devices']], axis=1).min(axis=1))\n",
      "prepaid = np.where((cfv['Plans'] == 0) & (cfv['Devices'] != 0), 0, cfv['Devices'])\n",
      "\n",
      "cfv['Postpaid Plans'] = postpaid\n",
      "cfv['Prepaid Plans'] = prepaid"
     ],
     "language": "python",
     "metadata": {},
     "outputs": [],
     "prompt_number": 6
    },
    {
     "cell_type": "heading",
     "level": 4,
     "metadata": {},
     "source": [
      "Append the CFV data to the SA data and fill N/A values with 0."
     ]
    },
    {
     "cell_type": "code",
     "collapsed": false,
     "input": [
      "appended = sa.append(cfv)\n",
      "appended = appended.fillna(0)"
     ],
     "language": "python",
     "metadata": {},
     "outputs": [],
     "prompt_number": 7
    },
    {
     "cell_type": "heading",
     "level": 4,
     "metadata": {},
     "source": [
      "With the appended DataFrame, group the data, i.e. compress it, by each column below."
     ]
    },
    {
     "cell_type": "code",
     "collapsed": false,
     "input": [
      "appended = appended.groupby(['Campaign', 'Date', 'Site (DFA)', 'Creative', 'Click-through URL', 'Ad', 'Creative Groups 1',\n",
      "                             'Creative Groups 2', 'Creative ID', 'Creative Type', 'Creative Field 1', 'Placement',   \n",
      "                             'Placement Cost Structure', 'Device (string)', 'Floodlight Attribution Type', 'OrderNumber (string)',\n",
      "                             'Plan (string)', 'Service (string)']).aggregate(np.sum)"
     ],
     "language": "python",
     "metadata": {},
     "outputs": [],
     "prompt_number": 8
    },
    {
     "cell_type": "code",
     "collapsed": false,
     "input": [
      "Range('working', 'A1').value = appended\n",
      "appended = pd.DataFrame(Range('working', 'A2').table.value, columns=Range('working', 'A1').horizontal.value)"
     ],
     "language": "python",
     "metadata": {},
     "outputs": [],
     "prompt_number": 9
    },
    {
     "cell_type": "code",
     "collapsed": false,
     "input": [
      "appended['Site'] = appended['Site (DFA)']\n",
      "appended['Destination URL'] = appended['Click-through URL']\n",
      "\n",
      "appended = appended.drop('Site (DFA)', 1)\n",
      "appended = appended.drop('Click-through URL', 1)"
     ],
     "language": "python",
     "metadata": {},
     "outputs": [],
     "prompt_number": 10
    },
    {
     "cell_type": "heading",
     "level": 4,
     "metadata": {},
     "source": [
      "Add Week and Video columns"
     ]
    },
    {
     "cell_type": "code",
     "collapsed": false,
     "input": [
      "appended['Week'] = appended['Date'].min()\n",
      "appended['Video Completions'] = 0\n",
      "appended['Video Views'] = 0"
     ],
     "language": "python",
     "metadata": {},
     "outputs": [],
     "prompt_number": 11
    },
    {
     "cell_type": "heading",
     "level": 4,
     "metadata": {},
     "source": [
      "Using the list of actions in the 'Action Reference' tab of the Excel sheet, set lists for each action category."
     ]
    },
    {
     "cell_type": "code",
     "collapsed": false,
     "input": [
      "a_actions = Range('Action_Reference', 'A2').vertical.value\n",
      "b_actions = Range('Action_Reference', 'B2').vertical.value\n",
      "c_actions = Range('Action_Reference', 'C2').vertical.value\n",
      "d_actions = Range('Action_Reference', 'D2').vertical.value\n",
      "e_actions = Range('Action_Reference', 'E2').vertical.value\n",
      "\n",
      "col_head = Range('working', 'A1').horizontal.value"
     ],
     "language": "python",
     "metadata": {},
     "outputs": [],
     "prompt_number": 12
    },
    {
     "cell_type": "heading",
     "level": 4,
     "metadata": {},
     "source": [
      "Set the actions to lists and search the DataFrame columns for each one, summing each value when found."
     ]
    },
    {
     "cell_type": "code",
     "collapsed": false,
     "input": [
      "a_actions = list(set(a_actions).intersection(col_head))\n",
      "b_actions = list(set(b_actions).intersection(col_head))\n",
      "c_actions = list(set(b_actions).intersection(col_head))\n",
      "d_actions = list(set(d_actions).intersection(col_head))\n",
      "e_actions = list(set(e_actions).intersection(col_head))"
     ],
     "language": "python",
     "metadata": {},
     "outputs": [],
     "prompt_number": 13
    },
    {
     "cell_type": "code",
     "collapsed": false,
     "input": [
      "view_through = []\n",
      "i = iter(view_through)\n",
      "for item in col_head:\n",
      "    view = re.search('View-through Conversions', item)\n",
      "    if view:\n",
      "        view_through.append(item)\n",
      "        i.next()\n",
      "\n",
      "click_through = []\n",
      "j = iter(click_through)\n",
      "for item in col_head:\n",
      "    click = re.search('Click-through Conversions', item)\n",
      "    if click:\n",
      "        click_through.append(item)\n",
      "        j.next()"
     ],
     "language": "python",
     "metadata": {},
     "outputs": [],
     "prompt_number": 14
    },
    {
     "cell_type": "code",
     "collapsed": false,
     "input": [
      "view_based = list(set(view_through).intersection(col_head))\n",
      "click_based = list(set(click_through).intersection(col_head))"
     ],
     "language": "python",
     "metadata": {},
     "outputs": [],
     "prompt_number": 15
    },
    {
     "cell_type": "heading",
     "level": 4,
     "metadata": {},
     "source": [
      "Add columns to the DataFrame for each action category"
     ]
    },
    {
     "cell_type": "code",
     "collapsed": false,
     "input": [
      "appended['A Actions'] = appended[a_actions].sum(axis=1)\n",
      "appended['B Actions'] = appended[b_actions].sum(axis=1)\n",
      "appended['C Actions'] = appended[c_actions].sum(axis=1)\n",
      "appended['D Actions'] = appended[d_actions].sum(axis=1)\n",
      "appended['E Actions'] = appended[e_actions].sum(axis=1)\n",
      "\n",
      "appended['F Actions'] = 0\n",
      "\n",
      "appended['Post-Click Activity'] = appended[click_based].sum(axis=1)\n",
      "appended['Post-Impression Activity'] = appended[view_based].sum(axis=1)"
     ],
     "language": "python",
     "metadata": {},
     "outputs": [],
     "prompt_number": 16
    },
    {
     "cell_type": "heading",
     "level": 4,
     "metadata": {},
     "source": [
      "Store Locator"
     ]
    },
    {
     "cell_type": "code",
     "collapsed": false,
     "input": [
      "store_locator = []\n",
      "k = iter(store_locator)\n",
      "for item in col_head:\n",
      "    locator = re.search('Store Locator', item)\n",
      "    if locator:\n",
      "        store_locator.append(item)\n",
      "        k.next()"
     ],
     "language": "python",
     "metadata": {},
     "outputs": [],
     "prompt_number": 17
    },
    {
     "cell_type": "code",
     "collapsed": false,
     "input": [
      "SLV_conversions = list(set(store_locator).intersection(col_head))\n",
      "appended['Store Locator Visits'] = appended[store_locator].sum(axis=1)"
     ],
     "language": "python",
     "metadata": {},
     "outputs": [],
     "prompt_number": 18
    },
    {
     "cell_type": "heading",
     "level": 4,
     "metadata": {},
     "source": [
      "Traffic Action Totals"
     ]
    },
    {
     "cell_type": "code",
     "collapsed": false,
     "input": [
      "appended['Awareness Actions'] = appended['A Actions'] + appended['B Actions']\n",
      "appended['Consideration Actions'] = appended['C Actions'] + appended['D Actions']\n",
      "appended['Traffic Actions'] = appended['Awareness Actions'] + appended['Consideration Actions']"
     ],
     "language": "python",
     "metadata": {},
     "outputs": [],
     "prompt_number": 19
    },
    {
     "cell_type": "heading",
     "level": 4,
     "metadata": {},
     "source": [
      "Message Categories"
     ]
    },
    {
     "cell_type": "code",
     "collapsed": false,
     "input": [
      "appended['Creative Field 1'] = appended['Creative Field 1'].str.replace('Creative Type: ', '')\n",
      "\n",
      "appended['Creative Field 1'] = appended['Creative Field 1'].str.replace('(', '')\n",
      "appended['Creative Field 1'] = appended['Creative Field 1'].str.replace(')', '')\n",
      "appended['Creative Field 1'] = appended['Creative Field 1'].str.replace('not set', 'TMO Unique Creative')\n",
      "\n",
      "appended['Message Bucket'] = appended['Creative Field 1'].str.split('_').str.get(0)\n",
      "\n",
      "appended['Message Category'] = appended['Creative Field 1'].str.split('_').str.get(1)\n",
      "\n",
      "appended['Message Offer'] = appended['Creative Field 1'].str.split('_').str.get(2)\n",
      "appended['Message Offer'].fillna(appended['Creative Groups 2'], inplace=True)"
     ],
     "language": "python",
     "metadata": {},
     "outputs": [],
     "prompt_number": 20
    },
    {
     "cell_type": "heading",
     "level": 4,
     "metadata": {},
     "source": [
      "F Tag"
     ]
    },
    {
     "cell_type": "code",
     "collapsed": false,
     "input": [
      "appended['F Tag'] = 0\n",
      "appended['Category'] = 0"
     ],
     "language": "python",
     "metadata": {},
     "outputs": [],
     "prompt_number": 21
    },
    {
     "cell_type": "heading",
     "level": 4,
     "metadata": {},
     "source": [
      "Strip the embedded URL encoding used by BlueKai to get the actual URL."
     ]
    },
    {
     "cell_type": "code",
     "collapsed": false,
     "input": [
      "appended['Destination URL'] = appended['Destination URL'].str.replace('http://analytics.bluekai.com/site/', '')\n",
      "appended['Destination URL'] = appended['Destination URL'].str.replace('15991\\?phint', '')\n",
      "appended['Destination URL'] = appended['Destination URL'].str.replace('http://15991\\?phint', '')\n",
      "appended['Destination URL'] = appended['Destination URL'].str.replace('event%3Dclick&phint', '')\n",
      "appended['Destination URL'] = appended['Destination URL'].str.replace('aid%3D%eadv!&phint', '')\n",
      "appended['Destination URL'] = appended['Destination URL'].str.replace('pid%3D%epid!&phint', '')\n",
      "appended['Destination URL'] = appended['Destination URL'].str.replace('cid%3D%ebuy!&phint', '')\n",
      "appended['Destination URL'] = appended['Destination URL'].str.replace('crid%3D%ecid!&done', '')\n",
      "appended['Destination URL'] = appended['Destination URL'].str.replace('pid%3D%25epid!&phint', '')\n",
      "appended['Destination URL'] = appended['Destination URL'].str.replace('%3Fcmpid%3DWTR_DD_DDRFCBK_RQLMKXRCUQZ1042%26csdids%3D%epid!_%eaid!_%ecid!_%eadv!', '')\n",
      "appended['Destination URL'] = appended['Destination URL'].str.replace('%3F%26csdids%3DADV_DS_%epid!_%eaid!_%ecid!_%eadv!', '')\n",
      "appended['Destination URL'] = appended['Destination URL'].str.replace('=', '')\n",
      "appended['Destination URL'] = appended['Destination URL'].str.replace('%2F', '/')\n",
      "appended['Destination URL'] = appended['Destination URL'].str.replace('%3A', ':')\n",
      "appended['Destination URL'] = appended['Destination URL'].str.replace('%23', '#')\n",
      "appended['Destination URL'] = appended['Destination URL'].apply(lambda x: x.split('.html')[0])\n",
      "appended['Destination URL'] = appended['Destination URL'].apply(lambda x: x.split('?')[0])"
     ],
     "language": "python",
     "metadata": {},
     "outputs": [],
     "prompt_number": 22
    },
    {
     "cell_type": "code",
     "collapsed": false,
     "input": [
      "urls = pd.DataFrame(appended[['Destination URL', 'F Tag']].drop_duplicates())"
     ],
     "language": "python",
     "metadata": {},
     "outputs": [],
     "prompt_number": 23
    },
    {
     "cell_type": "code",
     "collapsed": false,
     "input": [
      "url_f_tag = np.where(urls['F Tag'] == 0, urls['Destination URL'], urls['F Tag'])\n",
      "\n",
      "for url in url_f_tag[0:2]:\n",
      "    with Browser() as browser:\n",
      "        page = browser.visit(url)\n",
      "        f_tag_name = input('Enter F Tag name: ')\n",
      "        f_tag = np.where(appended['Destination URL'] == url, f_tag_name, 'missing')\n",
      "\n",
      "appended['F Tag'] = f_tag"
     ],
     "language": "python",
     "metadata": {},
     "outputs": [
      {
       "name": "stdout",
       "output_type": "stream",
       "stream": "stdout",
       "text": [
        "Enter F Tag name: 'UTTW'\n"
       ]
      },
      {
       "name": "stdout",
       "output_type": "stream",
       "stream": "stdout",
       "text": [
        "Enter F Tag name: 'For Business'\n"
       ]
      }
     ],
     "prompt_number": 33
    },
    {
     "cell_type": "code",
     "collapsed": false,
     "input": [
      "browser = Browser()\n",
      "page = browser.visit(url)\n",
      "html = browser.html\n",
      "soup = BeautifulSoup(html)"
     ],
     "language": "python",
     "metadata": {},
     "outputs": [],
     "prompt_number": 123
    },
    {
     "cell_type": "code",
     "collapsed": false,
     "input": [
      "iframes = list(soup.find_all(\"iframe\"))\n",
      "src = []\n",
      "floodlights = []\n",
      "j = iter(floodlights)\n",
      "i = iter(iframes)\n",
      "for iframe in iframes:\n",
      "    src.append(iframe.get('src'))\n",
      "    i.next()\n",
      "for fls in src:\n",
      "    tags = re.search('fls.doubleclick', str(fls))\n",
      "    if tags:\n",
      "        floodlights.append(tags)\n",
      "if len(floodlights) < 1:\n",
      "    print 'No Floodlight tag found on page'"
     ],
     "language": "python",
     "metadata": {},
     "outputs": [],
     "prompt_number": 209
    },
    {
     "cell_type": "heading",
     "level": 4,
     "metadata": {},
     "source": [
      "Copy data into pivot tab"
     ]
    },
    {
     "cell_type": "code",
     "collapsed": false,
     "input": [
      "sa_columns = sa.columns.tolist()\n",
      "cfv_columns = cfv.columns.tolist()"
     ],
     "language": "python",
     "metadata": {},
     "outputs": [],
     "prompt_number": 24
    },
    {
     "cell_type": "code",
     "collapsed": false,
     "input": [
      "action_tags = sa_columns[sa_columns.index('Clicks') + 1:]"
     ],
     "language": "python",
     "metadata": {},
     "outputs": [],
     "prompt_number": 25
    },
    {
     "cell_type": "code",
     "collapsed": false,
     "input": [
      "metrics = ['Media Cost', 'Impressions', 'Clicks', 'Orders', 'Plans', 'Add-a-Line', 'Activations', 'Devices', 'Services', 'Accessories',\n",
      "           'Prepaid Plans', 'Store Locator Visits', 'A Actions', 'B Actions', 'C Actions', 'D Actions', 'F Actions', 'Awareness Actions',\n",
      "           'Consideration Actions', 'Traffic Actions', 'Post-Click Activity', 'Post-Impression Activity']\n",
      "\n",
      "dimensions = ['Week', 'Date', 'Campaign', 'Site', 'Category', 'Destination URL', 'F Tag', 'Message Bucket', 'Message Category', 'Message Offer',\n",
      "              'Creative', 'Ad', 'Creative Groups 1', 'Creative Groups 2', 'Creative ID', 'Creative Type', 'Creative Field 1', 'Placement',\n",
      "              'Placement Cost Structure']"
     ],
     "language": "python",
     "metadata": {},
     "outputs": [],
     "prompt_number": 26
    },
    {
     "cell_type": "code",
     "collapsed": false,
     "input": [
      "columns = dimensions + metrics + action_tags\n",
      "columns = list(itertools.chain(columns))"
     ],
     "language": "python",
     "metadata": {},
     "outputs": [],
     "prompt_number": 27
    },
    {
     "cell_type": "code",
     "collapsed": false,
     "input": [
      "appended = appended[columns]"
     ],
     "language": "python",
     "metadata": {},
     "outputs": [],
     "prompt_number": 28
    },
    {
     "cell_type": "code",
     "collapsed": false,
     "input": [
      "Range('working', 'A1', index=False).value = appended"
     ],
     "language": "python",
     "metadata": {},
     "outputs": [],
     "prompt_number": 29
    }
   ],
   "metadata": {}
  }
 ]
}