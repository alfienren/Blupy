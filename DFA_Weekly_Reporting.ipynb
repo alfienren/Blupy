{
 "metadata": {
  "name": "",
  "signature": "sha256:a5642bfb60664ccbbeace310eef059a93ebc96e3db08cb2a43b05c30f691371e"
 },
 "nbformat": 3,
 "nbformat_minor": 0,
 "worksheets": [
  {
   "cells": [
    {
     "cell_type": "heading",
     "level": 4,
     "metadata": {},
     "source": [
      "Load necessary packages"
     ]
    },
    {
     "cell_type": "code",
     "collapsed": false,
     "input": [
      "import pandas as pd\n",
      "import numpy as np\n",
      "import datetime as datetime\n",
      "from xlwings import Workbook, Range, Sheet\n",
      "import re\n",
      "import itertools\n",
      "from splinter import Browser\n",
      "from splinter.request_handler.status_code import HttpResponseError\n",
      "from bs4 import BeautifulSoup"
     ],
     "language": "python",
     "metadata": {},
     "outputs": [],
     "prompt_number": 1
    },
    {
     "cell_type": "heading",
     "level": 4,
     "metadata": {},
     "source": [
      "Open the working Excel sheet"
     ]
    },
    {
     "cell_type": "code",
     "collapsed": false,
     "input": [
      "wb = Workbook(\"C:/Users/aarschle1/Google Drive/Optimedia/T-Mobile/Projects/Weekly_Reporting/Opti_DFA_Weekly_Reporting.xlsm\")"
     ],
     "language": "python",
     "metadata": {},
     "outputs": [],
     "prompt_number": 2
    },
    {
     "cell_type": "heading",
     "level": 4,
     "metadata": {},
     "source": [
      "A VBA subroutinue will create and add the required data to the sheets \"SA_Temp\" and \"CFV_Temp\". Create pandas DataFrames from this data."
     ]
    },
    {
     "cell_type": "code",
     "collapsed": false,
     "input": [
      "#sa = pd.DataFrame(pd.read_excel(wb.fullname, 'SA_Temp', index_col = None))\n",
      "#cfv = pd.DataFrame(pd.read_excel(wb.fullname, 'CFV_Temp', index_col = None))"
     ],
     "language": "python",
     "metadata": {},
     "outputs": [],
     "prompt_number": 3
    },
    {
     "cell_type": "code",
     "collapsed": false,
     "input": [
      "sa = pd.DataFrame(Range(\"SA_Temp\", \"A1\").table.value, columns = Range(\"SA_Temp\", \"A1\").horizontal.value)\n",
      "cfv = pd.DataFrame(Range(\"CFV_Temp\", \"A1\").table.value, columns = Range(\"CFV_Temp\", \"A1\").horizontal.value)\n",
      "\n",
      "sa = sa.fillna(0)\n",
      "cfv = cfv.fillna(0)"
     ],
     "language": "python",
     "metadata": {},
     "outputs": [],
     "prompt_number": 50
    },
    {
     "cell_type": "code",
     "collapsed": false,
     "input": [
      "sa.drop(0, inplace = True)\n",
      "cfv.drop(0, inplace = True)"
     ],
     "language": "python",
     "metadata": {},
     "outputs": [],
     "prompt_number": 51
    },
    {
     "cell_type": "heading",
     "level": 4,
     "metadata": {},
     "source": [
      "Transform CFV Data"
     ]
    },
    {
     "cell_type": "code",
     "collapsed": false,
     "input": [
      "cfv['Orders'] = 1"
     ],
     "language": "python",
     "metadata": {},
     "outputs": [],
     "prompt_number": 52
    },
    {
     "cell_type": "code",
     "collapsed": false,
     "input": [
      "cfv['Plans'] = cfv['Plan (string)'].str.count(',') + 1\n",
      "cfv['Devices'] = cfv['Device (string)'].str.count(',') + 1\n",
      "cfv['Services'] = cfv['Service (string)'].str.count(',') + 1\n",
      "cfv['Add-a-Line'] = cfv['Service (string)'].str.count('ADD')\n",
      "cfv['Accessories'] = cfv['Accessory (string)'].str.count(',') + 1\n",
      "cfv['Activations'] = cfv['Plans'] + cfv['Add-a-Line']\n",
      "\n",
      "cfv['Plans'] = cfv['Plans'].fillna(0)\n",
      "cfv['Devices'] = cfv['Devices'].fillna(0)\n",
      "cfv['Services'] = cfv['Services'].fillna(0)\n",
      "cfv['Add-a-Line'] = cfv['Add-a-Line'].fillna(0)\n",
      "cfv['Accessories'] = cfv['Accessories'].fillna(0)\n",
      "\n",
      "postpaid = np.where(cfv['Plans'] == cfv['Devices'], cfv['Plans'], pd.concat([cfv['Plans'], cfv['Devices']], axis=1).min(axis=1))\n",
      "prepaid = np.where((cfv['Plans'] == 0) & (cfv['Devices'] != 0), 0, cfv['Devices'])\n",
      "\n",
      "cfv['Postpaid Plans'] = postpaid\n",
      "cfv['Prepaid Plans'] = prepaid"
     ],
     "language": "python",
     "metadata": {},
     "outputs": [],
     "prompt_number": 53
    },
    {
     "cell_type": "heading",
     "level": 4,
     "metadata": {},
     "source": [
      "Append the CFV data to the SA data and fill N/A values with 0."
     ]
    },
    {
     "cell_type": "code",
     "collapsed": false,
     "input": [
      "appended = sa.append(cfv)\n",
      "appended = appended.fillna(0)"
     ],
     "language": "python",
     "metadata": {},
     "outputs": [],
     "prompt_number": 54
    },
    {
     "cell_type": "heading",
     "level": 4,
     "metadata": {},
     "source": [
      "With the appended DataFrame, group the data, i.e. compress it, by each column below."
     ]
    },
    {
     "cell_type": "code",
     "collapsed": false,
     "input": [
      "appended = appended.groupby(['Campaign', 'Date', 'Site (DCM)', 'Creative', 'Click-through URL', 'Ad', 'Creative Groups 1',\n",
      "                             'Creative Groups 2', 'Creative ID', 'Creative Type', 'Creative Field 1', 'Placement',   \n",
      "                             'Placement Cost Structure', 'Device (string)', 'Floodlight Attribution Type', 'OrderNumber (string)',\n",
      "                             'Plan (string)', 'Service (string)'], as_index = False).aggregate(np.sum)"
     ],
     "language": "python",
     "metadata": {},
     "outputs": [],
     "prompt_number": 55
    },
    {
     "cell_type": "code",
     "collapsed": false,
     "input": [
      "appended['Media Cost'] = np.where(appended['DBM Cost USD'] != 0, appended['DBM Cost USD'], appended['Media Cost'])\n",
      "appended = appended.drop('DBM Cost USD', 1)"
     ],
     "language": "python",
     "metadata": {},
     "outputs": [],
     "prompt_number": 56
    },
    {
     "cell_type": "code",
     "collapsed": false,
     "input": [
      "appended['Site'] = appended['Site (DCM)']\n",
      "appended['Destination URL'] = appended['Click-through URL']\n",
      "\n",
      "appended = appended.drop('Site (DCM)', 1)\n",
      "appended = appended.drop('Click-through URL', 1)"
     ],
     "language": "python",
     "metadata": {},
     "outputs": [],
     "prompt_number": 57
    },
    {
     "cell_type": "heading",
     "level": 4,
     "metadata": {},
     "source": [
      "Add Week and Video columns"
     ]
    },
    {
     "cell_type": "code",
     "collapsed": false,
     "input": [
      "appended['Week'] = appended['Date'].min()\n",
      "appended['Video Completions'] = 0\n",
      "appended['Video Views'] = 0"
     ],
     "language": "python",
     "metadata": {},
     "outputs": [],
     "prompt_number": 58
    },
    {
     "cell_type": "heading",
     "level": 4,
     "metadata": {},
     "source": [
      "Using the list of actions in the 'Action Reference' tab of the Excel sheet, set lists for each action category."
     ]
    },
    {
     "cell_type": "code",
     "collapsed": false,
     "input": [
      "a_actions = Range('Action_Reference', 'A2').vertical.value\n",
      "b_actions = Range('Action_Reference', 'B2').vertical.value\n",
      "c_actions = Range('Action_Reference', 'C2').vertical.value\n",
      "d_actions = Range('Action_Reference', 'D2').vertical.value\n",
      "e_actions = Range('Action_Reference', 'E2').vertical.value\n",
      "\n",
      "col_head = appended.columns"
     ],
     "language": "python",
     "metadata": {},
     "outputs": [],
     "prompt_number": 59
    },
    {
     "cell_type": "heading",
     "level": 4,
     "metadata": {},
     "source": [
      "Set the actions to lists and search the DataFrame columns for each one, summing each value when found."
     ]
    },
    {
     "cell_type": "code",
     "collapsed": false,
     "input": [
      "a_actions = list(set(a_actions).intersection(col_head))\n",
      "b_actions = list(set(b_actions).intersection(col_head))\n",
      "c_actions = list(set(b_actions).intersection(col_head))\n",
      "d_actions = list(set(d_actions).intersection(col_head))\n",
      "e_actions = list(set(e_actions).intersection(col_head))"
     ],
     "language": "python",
     "metadata": {},
     "outputs": [],
     "prompt_number": 60
    },
    {
     "cell_type": "code",
     "collapsed": false,
     "input": [
      "view_through = []\n",
      "i = iter(view_through)\n",
      "for item in col_head:\n",
      "    view = re.search('View-through Conversions', item)\n",
      "    if view:\n",
      "        view_through.append(item)\n",
      "        i.next()\n",
      "\n",
      "click_through = []\n",
      "j = iter(click_through)\n",
      "for item in col_head:\n",
      "    click = re.search('Click-through Conversions', item)\n",
      "    if click:\n",
      "        click_through.append(item)\n",
      "        j.next()"
     ],
     "language": "python",
     "metadata": {},
     "outputs": [],
     "prompt_number": 61
    },
    {
     "cell_type": "code",
     "collapsed": false,
     "input": [
      "view_based = list(set(view_through).intersection(col_head))\n",
      "click_based = list(set(click_through).intersection(col_head))"
     ],
     "language": "python",
     "metadata": {},
     "outputs": [],
     "prompt_number": 62
    },
    {
     "cell_type": "heading",
     "level": 4,
     "metadata": {},
     "source": [
      "Add columns to the DataFrame for each action category"
     ]
    },
    {
     "cell_type": "code",
     "collapsed": false,
     "input": [
      "appended['A Actions'] = appended[a_actions].sum(axis=1)\n",
      "appended['B Actions'] = appended[b_actions].sum(axis=1)\n",
      "appended['C Actions'] = appended[c_actions].sum(axis=1)\n",
      "appended['D Actions'] = appended[d_actions].sum(axis=1)\n",
      "appended['E Actions'] = appended[e_actions].sum(axis=1)\n",
      "\n",
      "appended['F Actions'] = 0\n",
      "\n",
      "appended['Post-Click Activity'] = appended[click_based].sum(axis=1)\n",
      "appended['Post-Impression Activity'] = appended[view_based].sum(axis=1)"
     ],
     "language": "python",
     "metadata": {},
     "outputs": [],
     "prompt_number": 63
    },
    {
     "cell_type": "heading",
     "level": 4,
     "metadata": {},
     "source": [
      "Store Locator"
     ]
    },
    {
     "cell_type": "code",
     "collapsed": false,
     "input": [
      "store_locator = []\n",
      "k = iter(store_locator)\n",
      "for item in col_head:\n",
      "    locator = re.search('Store Locator', item)\n",
      "    if locator:\n",
      "        store_locator.append(item)\n",
      "        k.next()"
     ],
     "language": "python",
     "metadata": {},
     "outputs": [],
     "prompt_number": 64
    },
    {
     "cell_type": "code",
     "collapsed": false,
     "input": [
      "SLV_conversions = list(set(store_locator).intersection(col_head))\n",
      "appended['Store Locator Visits'] = appended[store_locator].sum(axis=1)"
     ],
     "language": "python",
     "metadata": {},
     "outputs": [],
     "prompt_number": 65
    },
    {
     "cell_type": "heading",
     "level": 4,
     "metadata": {},
     "source": [
      "Traffic Action Totals"
     ]
    },
    {
     "cell_type": "code",
     "collapsed": false,
     "input": [
      "appended['Awareness Actions'] = appended['A Actions'] + appended['B Actions']\n",
      "appended['Consideration Actions'] = appended['C Actions'] + appended['D Actions']\n",
      "appended['Traffic Actions'] = appended['Awareness Actions'] + appended['Consideration Actions']"
     ],
     "language": "python",
     "metadata": {},
     "outputs": [],
     "prompt_number": 66
    },
    {
     "cell_type": "heading",
     "level": 4,
     "metadata": {},
     "source": [
      "Message Categories"
     ]
    },
    {
     "cell_type": "code",
     "collapsed": false,
     "input": [
      "appended['Creative Field 1'] = appended['Creative Field 1'].str.replace('Creative Type: ', '')\n",
      "\n",
      "appended['Creative Field 1'] = appended['Creative Field 1'].str.replace('(', '')\n",
      "appended['Creative Field 1'] = appended['Creative Field 1'].str.replace(')', '')\n",
      "appended['Creative Field 1'] = appended['Creative Field 1'].str.replace('not set', 'TMO Unique Creative')\n",
      "\n",
      "appended['Message Bucket'] = appended['Creative Field 1'].str.split('_').str.get(0)\n",
      "\n",
      "appended['Message Category'] = appended['Creative Field 1'].str.split('_').str.get(1)\n",
      "\n",
      "appended['Message Offer'] = appended['Creative Field 1'].str.split('_').str.get(2)\n",
      "appended['Message Offer'].fillna(appended['Creative Groups 2'], inplace=True)"
     ],
     "language": "python",
     "metadata": {},
     "outputs": [],
     "prompt_number": 67
    },
    {
     "cell_type": "heading",
     "level": 4,
     "metadata": {},
     "source": [
      "Strip the embedded URL encoding used by BlueKai to get the actual URL."
     ]
    },
    {
     "cell_type": "code",
     "collapsed": false,
     "input": [
      "appended['Destination URL'] = appended['Destination URL'].str.replace('http://analytics.bluekai.com/site/', '')\n",
      "appended['Destination URL'] = appended['Destination URL'].str.replace('15991\\?phint', '')\n",
      "appended['Destination URL'] = appended['Destination URL'].str.replace('http://15991\\?phint', '')\n",
      "appended['Destination URL'] = appended['Destination URL'].str.replace('event%3Dclick&phint', '')\n",
      "appended['Destination URL'] = appended['Destination URL'].str.replace('aid%3D%eadv!&phint', '')\n",
      "appended['Destination URL'] = appended['Destination URL'].str.replace('pid%3D%epid!&phint', '')\n",
      "appended['Destination URL'] = appended['Destination URL'].str.replace('cid%3D%ebuy!&phint', '')\n",
      "appended['Destination URL'] = appended['Destination URL'].str.replace('crid%3D%ecid!&done', '')\n",
      "appended['Destination URL'] = appended['Destination URL'].str.replace('pid%3D%25epid!&phint', '')\n",
      "appended['Destination URL'] = appended['Destination URL'].str.replace('%3Fcmpid%3DWTR_DD_DDRFCBK_RQLMKXRCUQZ1042%26csdids%3D%epid!_%eaid!_%ecid!_%eadv!', '')\n",
      "appended['Destination URL'] = appended['Destination URL'].str.replace('%3F%26csdids%3DADV_DS_%epid!_%eaid!_%ecid!_%eadv!', '')\n",
      "appended['Destination URL'] = appended['Destination URL'].str.replace('%3Fcm_mmc%3DPurchase-_-Display-_-Revere-_-Revere%26csdids%3D%epid!_%eaid!_%ecid!_%eadv!', '')\n",
      "appended['Destination URL'] = appended['Destination URL'].str.replace('%3Fcm_mmc%3DDisplay-_-Purchase-_-GM-_-Tablet_Base%26csdids%3D%epid!_%eaid!_%ecid!_%eadv!', '')\n",
      "appended['Destination URL'] = appended['Destination URL'].str.replace('%3Fcmpid%3DWTR_DD_DDRDSPLYPR_JM2694TSP3U5895%26csdids%3D%epid!_%eaid!_%ecid!_%eadv!', '')\n",
      "appended['Destination URL'] = appended['Destination URL'].str.replace('&csdids%epid!_%eaid!_%ecid!_%eadv!', '')\n",
      "appended['Destination URL'] = appended['Destination URL'].str.replace('=', '')\n",
      "appended['Destination URL'] = appended['Destination URL'].str.replace('%2F', '/')\n",
      "appended['Destination URL'] = appended['Destination URL'].str.replace('%3A', ':')\n",
      "appended['Destination URL'] = appended['Destination URL'].str.replace('%23', '#')\n",
      "appended['Destination URL'] = appended['Destination URL'].apply(lambda x: x.split('.html')[0])\n",
      "appended['Destination URL'] = appended['Destination URL'].apply(lambda x: x.split('?')[0])"
     ],
     "language": "python",
     "metadata": {},
     "outputs": [],
     "prompt_number": 68
    },
    {
     "cell_type": "code",
     "collapsed": false,
     "input": [
      "f_tags = pd.DataFrame(Range('F_Tags', 'B1').table.value, columns = Range('F_Tags', 'B1').horizontal.value)\n",
      "f_tags.drop(0, inplace = True)\n",
      "f_tag_names = f_tags['Group Name'] + \" : \" + f_tags['Activity Name']"
     ],
     "language": "python",
     "metadata": {},
     "outputs": [],
     "prompt_number": 69
    },
    {
     "cell_type": "code",
     "collapsed": false,
     "input": [
      "Range('Action_Reference', 'G1').value = pd.Series(f_tag_list)\n",
      "Range('Action_Reference', 'I1', index = False).value = pd.Series(list(new_tags))"
     ],
     "language": "python",
     "metadata": {},
     "outputs": [],
     "prompt_number": 120
    },
    {
     "cell_type": "code",
     "collapsed": false,
     "input": [
      "f_tag_list = []\n",
      "column_names = appended.columns\n",
      "\n",
      "for i in column_names:\n",
      "    for j in list(f_tag_names):\n",
      "        tag = re.search(j, i)\n",
      "        if tag:\n",
      "            f_tag_list.append(i)"
     ],
     "language": "python",
     "metadata": {},
     "outputs": [],
     "prompt_number": 102
    },
    {
     "cell_type": "code",
     "collapsed": false,
     "input": [
      "traffic_tags = a_actions + b_actions + c_actions + d_actions + e_actions\n",
      "tags = set(f_tag_list).difference(traffic_tags)\n",
      "f_tag_conversions = list(set(tags).intersection(column_names))"
     ],
     "language": "python",
     "metadata": {},
     "outputs": [],
     "prompt_number": 121
    },
    {
     "cell_type": "code",
     "collapsed": false,
     "input": [
      "Range('Action_Reference', '1').value = pd.Series(appended.columns)"
     ],
     "language": "python",
     "metadata": {},
     "outputs": [],
     "prompt_number": 89
    },
    {
     "cell_type": "code",
     "collapsed": false,
     "input": [
      "urls = appended[['Destination URL', 'F Tag']].drop_duplicates()\n",
      "urls['Destination URL'] = np.where(urls['Destination URL'].str.contains('mobile.com') == True, urls['Destination URL'], np.NaN)\n",
      "urls.dropna(inplace = True)"
     ],
     "language": "python",
     "metadata": {},
     "outputs": [],
     "prompt_number": 54
    },
    {
     "cell_type": "code",
     "collapsed": false,
     "input": [
      "page_url = pd.DataFrame(page_url, columns = ['URLs'])\n",
      "f_tags = pd.DataFrame(f_tags, columns = ['F Tags'])"
     ],
     "language": "python",
     "metadata": {},
     "outputs": [],
     "prompt_number": 30
    },
    {
     "cell_type": "code",
     "collapsed": false,
     "input": [
      "df_f_tag = page_url.merge(f_tags, left_index = True, right_index = True)"
     ],
     "language": "python",
     "metadata": {},
     "outputs": [],
     "prompt_number": 31
    },
    {
     "cell_type": "code",
     "collapsed": false,
     "input": [
      "Range('Lookup', 'C1', index = False).value = df_f_tag"
     ],
     "language": "python",
     "metadata": {},
     "outputs": [],
     "prompt_number": 32
    },
    {
     "cell_type": "heading",
     "level": 4,
     "metadata": {},
     "source": [
      "Copy data into pivot tab"
     ]
    },
    {
     "cell_type": "code",
     "collapsed": false,
     "input": [
      "sa_columns = sa.columns.tolist()\n",
      "cfv_columns = cfv.columns.tolist()"
     ],
     "language": "python",
     "metadata": {},
     "outputs": []
    },
    {
     "cell_type": "code",
     "collapsed": false,
     "input": [
      "action_tags = sa_columns[sa_columns.index('Clicks') + 1:]"
     ],
     "language": "python",
     "metadata": {},
     "outputs": []
    },
    {
     "cell_type": "code",
     "collapsed": false,
     "input": [
      "metrics = ['Media Cost', 'Impressions', 'Clicks', 'Orders', 'Plans', 'Add-a-Line', 'Activations', 'Devices', 'Services', 'Accessories',\n",
      "           'Prepaid Plans', 'Store Locator Visits', 'A Actions', 'B Actions', 'C Actions', 'D Actions', 'F Actions', 'Awareness Actions',\n",
      "           'Consideration Actions', 'Traffic Actions', 'Post-Click Activity', 'Post-Impression Activity']\n",
      "\n",
      "dimensions = ['Week', 'Date', 'Campaign', 'Site', 'Category', 'Destination URL', 'F Tag', 'Message Bucket', 'Message Category', 'Message Offer',\n",
      "              'Creative', 'Ad', 'Creative Groups 1', 'Creative Groups 2', 'Creative ID', 'Creative Type', 'Creative Field 1', 'Placement',\n",
      "              'Placement Cost Structure']"
     ],
     "language": "python",
     "metadata": {},
     "outputs": []
    },
    {
     "cell_type": "code",
     "collapsed": false,
     "input": [
      "columns = dimensions + metrics + action_tags\n",
      "columns = list(itertools.chain(columns))"
     ],
     "language": "python",
     "metadata": {},
     "outputs": []
    },
    {
     "cell_type": "code",
     "collapsed": false,
     "input": [
      "appended = appended[columns]"
     ],
     "language": "python",
     "metadata": {},
     "outputs": []
    },
    {
     "cell_type": "heading",
     "level": 3,
     "metadata": {},
     "source": [
      "Saved for later"
     ]
    },
    {
     "cell_type": "code",
     "collapsed": false,
     "input": [
      "floodlights = []\n",
      "with Browser('firefox') as browser:\n",
      "    for url in urls['Destination URL'][1:]:\n",
      "        \n",
      "        try:\n",
      "            page = browser.visit(url)\n",
      "        except HttpResponseError, e:\n",
      "            floodlights.append(np.NaN)\n",
      "            \n",
      "        html = browser.html\n",
      "        soup = BeautifulSoup(html)\n",
      "        iframes = list(soup.find_all(\"iframe\"))\n",
      "        for iframe in iframes:\n",
      "            fls = re.search('fls.doubleclick', str(iframe.get('src')))\n",
      "            if fls:\n",
      "                floodlights.append(url)"
     ],
     "language": "python",
     "metadata": {},
     "outputs": []
    },
    {
     "cell_type": "code",
     "collapsed": false,
     "input": [
      "f_tags = []\n",
      "page_url = []\n",
      "page_error = []\n",
      "\n",
      "with Browser('firefox') as browser:\n",
      "    for url in urls['Destination URL']:\n",
      "        \n",
      "        try:\n",
      "            browser.visit(url)\n",
      "        except HttpResponseError, e:\n",
      "            page_error.append(e)\n",
      "            \n",
      "        html = browser.html\n",
      "        soup = BeautifulSoup(html)\n",
      "        page_url.append(url)\n",
      "        f_tags.append(soup.title.string)"
     ],
     "language": "python",
     "metadata": {},
     "outputs": []
    }
   ],
   "metadata": {}
  }
 ]
}