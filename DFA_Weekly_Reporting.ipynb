{
 "metadata": {
  "name": "",
  "signature": "sha256:ecc9b81374573861a20c6e8d1057946ac504fb3792704d6a46b317d67b9ae59d"
 },
 "nbformat": 3,
 "nbformat_minor": 0,
 "worksheets": [
  {
   "cells": [
    {
     "cell_type": "code",
     "collapsed": false,
     "input": [
      "import pandas as pd\n",
      "import numpy as np\n",
      "from xlwings import Workbook, Range\n",
      "import re"
     ],
     "language": "python",
     "metadata": {},
     "outputs": [],
     "prompt_number": 585
    },
    {
     "cell_type": "code",
     "collapsed": false,
     "input": [
      "wb = Workbook(\"C:/Users/aarschle1/Google Drive/Optimedia/T-Mobile/Projects/Weekly_Reporting/Opti_DFA_Weekly_Reporting.xlsm\")"
     ],
     "language": "python",
     "metadata": {},
     "outputs": [],
     "prompt_number": 2
    },
    {
     "cell_type": "code",
     "collapsed": false,
     "input": [
      "sa2 = pd.DataFrame(pd.read_excel(wb.fullname, 'SA_Temp', index_col = None))\n",
      "cfv2 = pd.DataFrame(pd.read_excel(wb.fullname, 'CFV_Temp', index_col = None))"
     ],
     "language": "python",
     "metadata": {},
     "outputs": [],
     "prompt_number": 3
    },
    {
     "cell_type": "code",
     "collapsed": false,
     "input": [
      "def chunk_df(df, startcell = 'A1', chunk_size = 100000):\n",
      "    if len(df) <= (chunk_size + 1):\n",
      "        Range(startcell, index = False, header = False).value = df\n",
      "    else:\n",
      "        c = re.match(r\"([a-z]+)([0-9]+)\", startcell, re.I)\n",
      "        row = c.group(1)\n",
      "        col = int(c.group(2))\n",
      "        \n",
      "        for chunk in (df[rw:rw + chunk_size] for rw in \n",
      "                      range(0, len(df), chunk_size)):\n",
      "            Range(row + str(col), index = False, header = False).value = chunk\n",
      "            col += chunk_size"
     ],
     "language": "python",
     "metadata": {},
     "outputs": [],
     "prompt_number": 4
    },
    {
     "cell_type": "code",
     "collapsed": false,
     "input": [
      "sa = sa2\n",
      "cfv = cfv2"
     ],
     "language": "python",
     "metadata": {},
     "outputs": [],
     "prompt_number": 586
    },
    {
     "cell_type": "code",
     "collapsed": false,
     "input": [
      "cfv['Orders'] = 1\n",
      "cfv['Plans'] = cfv['Plan (string)'].str.count(',') + 1\n",
      "cfv['Devices'] = cfv['Device (string)'].str.count(',') + 1\n",
      "cfv['Services'] = cfv['Service (string)'].str.count(',') + 1\n",
      "cfv['Add-a-Line'] = cfv['Service (string)'].str.count('ADD')\n",
      "cfv['Accessories'] = cfv['Accessory (string)'].str.count(',') + 1\n",
      "cfv['Activations'] = cfv['Plans'] + cfv['Add-a-Line']\n",
      "\n",
      "cfv['Postpaid Plans'] = np.where(cfv['Plans'] == cfv['Devices'], cfv['Plans'], pd.concat([cfv['Plans'], cfv['Devices']], axis=1).min(axis=1))\n",
      "cfv['Prepaid Plans'] = np.where((cfv['Plans'] == 0) & (cfv['Devices'] != 0), 0, cfv['Devices'])"
     ],
     "language": "python",
     "metadata": {},
     "outputs": [],
     "prompt_number": 587
    },
    {
     "cell_type": "code",
     "collapsed": false,
     "input": [
      "appended = sa.append(cfv)"
     ],
     "language": "python",
     "metadata": {},
     "outputs": [],
     "prompt_number": 588
    },
    {
     "cell_type": "code",
     "collapsed": false,
     "input": [
      "appended['Media Cost'] = np.where(appended['DBM Cost USD'] != 0, appended['DBM Cost USD'], appended['Media Cost'])\n",
      "appended.drop('DBM Cost USD', 1, inplace = True)"
     ],
     "language": "python",
     "metadata": {},
     "outputs": [],
     "prompt_number": 589
    },
    {
     "cell_type": "code",
     "collapsed": false,
     "input": [
      "appended['Click-through URL'] = appended['Click-through URL'].str.replace('http://analytics.bluekai.com/site/', '')\n",
      "appended['Click-through URL'] = appended['Click-through URL'].str.replace('%3F%3DADV_DS_%epid!_%eaid!_%ecid!_%eadv!', '')\n",
      "appended['Click-through URL'] = appended['Click-through URL'].str.replace('15991\\?phint', '')\n",
      "appended['Click-through URL'] = appended['Click-through URL'].str.replace('http://15991\\?phint', '')\n",
      "appended['Click-through URL'] = appended['Click-through URL'].str.replace('event%3Dclick&phint', '')\n",
      "appended['Click-through URL'] = appended['Click-through URL'].str.replace('aid%3D%eadv!&phint', '')\n",
      "appended['Click-through URL'] = appended['Click-through URL'].str.replace('pid%3D%epid!&phint', '')\n",
      "appended['Click-through URL'] = appended['Click-through URL'].str.replace('cid%3D%ebuy!&phint', '')\n",
      "appended['Click-through URL'] = appended['Click-through URL'].str.replace('crid%3D%ecid!&done', '')\n",
      "appended['Click-through URL'] = appended['Click-through URL'].str.replace('pid%3D%25epid!&phint', '')\n",
      "appended['Click-through URL'] = appended['Click-through URL'].str.replace('%3D%epid!_%eaid!_%ecid!_%eadv!', '')\n",
      "appended['Click-through URL'] = appended['Click-through URL'].str.replace('%26csdids', '')\n",
      "appended['Click-through URL'] = appended['Click-through URL'].str.replace('DADV_DS_ADDDVL4Q_EMUL7Y9E1YA4116', '')\n",
      "appended['Click-through URL'] = appended['Click-through URL'].str.replace('DWTR_DD_DDRDSPLYPR_JM2694TSP3U5895', '')\n",
      "appended['Click-through URL'] = appended['Click-through URL'].str.replace('DWTR_DD_DDRFCBK_RQLMKXRCUQZ1042', '')\n",
      "appended['Click-through URL'] = appended['Click-through URL'].str.replace('%3Fcmpid%3', '')\n",
      "appended['Click-through URL'] = appended['Click-through URL'].str.replace('b/refmh_', '')\n",
      "appended['Click-through URL'] = appended['Click-through URL'].str.replace('%3Fcm_mmc%3DPurchase-_-Display-_-Revere-_-Revere', '')\n",
      "appended['Click-through URL'] = appended['Click-through URL'].str.replace('%3Fcm_mmc%3DDisplay-_-Purchase-_-GM-_-Tablet_Base', '')\n",
      "appended['Click-through URL'] = appended['Click-through URL'].str.replace('%3Fcmpid%3DWTR_DD_DDRFCBK_RQLMKXRCUQZ1042%26csdids%3D%epid!_%eaid!_%ecid!_%eadv!', '')\n",
      "appended['Click-through URL'] = appended['Click-through URL'].str.replace('%3F%26csdids%3DADV_DS_%epid!_%eaid!_%ecid!_%eadv!', '')\n",
      "appended['Click-through URL'] = appended['Click-through URL'].str.replace('%3Fcm_mmc%3DPurchase-_-Display-_-Revere-_-Revere%26csdids%3D%epid!_%eaid!_%ecid!_%eadv!', '')\n",
      "appended['Click-through URL'] = appended['Click-through URL'].str.replace('%3Fcm_mmc%3DDisplay-_-Purchase-_-GM-_-Tablet_Base%26csdids%3D%epid!_%eaid!_%ecid!_%eadv!', '')\n",
      "appended['Click-through URL'] = appended['Click-through URL'].str.replace('%3Fcmpid%3DWTR_DD_DDRDSPLYPR_JM2694TSP3U5895%26csdids%3D%epid!_%eaid!_%ecid!_%eadv!', '')\n",
      "appended['Click-through URL'] = appended['Click-through URL'].str.replace('&csdids%epid!_%eaid!_%ecid!_%eadv!', '')\n",
      "appended['Click-through URL'] = appended['Click-through URL'].str.replace('=', '')\n",
      "appended['Click-through URL'] = appended['Click-through URL'].str.replace('%2F', '/')\n",
      "appended['Click-through URL'] = appended['Click-through URL'].str.replace('%3A', ':')\n",
      "appended['Click-through URL'] = appended['Click-through URL'].str.replace('%23', '#')\n",
      "appended['Click-through URL'] = appended['Click-through URL'].apply(lambda x: str(x).split('.html')[0])\n",
      "appended['Click-through URL'] = appended['Click-through URL'].apply(lambda x: str(x).split('?')[0])"
     ],
     "language": "python",
     "metadata": {},
     "outputs": [],
     "prompt_number": 590
    },
    {
     "cell_type": "code",
     "collapsed": false,
     "input": [
      "appended = appended.groupby(['Campaign', 'Date', 'Site (DCM)', 'Creative', 'Click-through URL', 'Ad', 'Creative Groups 1',\n",
      "                             'Creative Groups 2', 'Creative ID', 'Creative Type', 'Creative Field 1', 'Placement',   \n",
      "                             'Placement Cost Structure', 'Floodlight Attribution Type', 'Activity', 'OrderNumber (string)',\n",
      "                             'Plan (string)', 'Device (string)', 'Service (string)', 'Accessory (string)'], as_index = False).aggregate(np.sum)"
     ],
     "language": "python",
     "metadata": {},
     "outputs": [],
     "prompt_number": 591
    },
    {
     "cell_type": "code",
     "collapsed": false,
     "input": [
      "appended['Plans'].fillna(0, inplace = True)\n",
      "appended['Services'].fillna(0, inplace = True)\n",
      "appended['Devices'].fillna(0, inplace = True)\n",
      "appended['Accessories'].fillna(0, inplace = True)"
     ],
     "language": "python",
     "metadata": {},
     "outputs": [],
     "prompt_number": 592
    },
    {
     "cell_type": "code",
     "collapsed": false,
     "input": [
      "appended['Plan (string)'] = np.where(appended['Plans'] < 1, '',\n",
      "                                     appended['Plan (string)'])\n",
      "\n",
      "appended['Service (string)'] = np.where(appended['Services'] < 1, '',\n",
      "                                       appended['Service (string)'])\n",
      "\n",
      "appended['Accessory (string)'] = np.where(appended['Accessories'] < 1, '',\n",
      "                                          appended['Accessory (string)'])\n",
      "\n",
      "appended['Devices'] = np.where(appended['Device (string)'].str.contains('nan') == True, 0, appended['Devices'])"
     ],
     "language": "python",
     "metadata": {},
     "outputs": [],
     "prompt_number": 593
    },
    {
     "cell_type": "code",
     "collapsed": false,
     "input": [
      "a_actions = Range('Action_Reference', 'A2').vertical.value\n",
      "b_actions = Range('Action_Reference', 'B2').vertical.value\n",
      "c_actions = Range('Action_Reference', 'C2').vertical.value\n",
      "d_actions = Range('Action_Reference', 'D2').vertical.value\n",
      "e_actions = Range('Action_Reference', 'E2').vertical.value\n",
      "\n",
      "column_names = appended.columns\n",
      "traffic_tags = a_actions + b_actions + c_actions + d_actions + e_actions\n",
      "\n",
      "a_actions = list(set(a_actions).intersection(column_names))\n",
      "b_actions = list(set(b_actions).intersection(column_names))\n",
      "c_actions = list(set(c_actions).intersection(column_names))\n",
      "d_actions = list(set(d_actions).intersection(column_names))\n",
      "e_actions = list(set(e_actions).intersection(column_names))\n",
      "\n",
      "appended['A Actions'] = appended[a_actions].sum(axis=1)\n",
      "appended['B Actions'] = appended[b_actions].sum(axis=1)\n",
      "appended['C Actions'] = appended[c_actions].sum(axis=1)\n",
      "appended['D Actions'] = appended[d_actions].sum(axis=1)\n",
      "appended['E Actions'] = appended[e_actions].sum(axis=1)"
     ],
     "language": "python",
     "metadata": {},
     "outputs": [],
     "prompt_number": 594
    },
    {
     "cell_type": "code",
     "collapsed": false,
     "input": [
      "view_through = []\n",
      "for item in column_names:\n",
      "    view = re.search('View-through Conversions', item)\n",
      "    if view:\n",
      "        view_through.append(item)\n",
      "\n",
      "click_through = []\n",
      "for item in column_names:\n",
      "    click = re.search('Click-through Conversions', item)\n",
      "    if click:\n",
      "        click_through.append(item)\n",
      "\n",
      "store_locator = []\n",
      "for item in column_names:\n",
      "    locator = re.search('Store Locator', item)\n",
      "    if locator:\n",
      "        store_locator.append(item)"
     ],
     "language": "python",
     "metadata": {},
     "outputs": [],
     "prompt_number": 595
    },
    {
     "cell_type": "code",
     "collapsed": false,
     "input": [
      "view_based = list(set(view_through).intersection(column_names))\n",
      "click_based = list(set(click_through).intersection(column_names))\n",
      "SLV_conversions = list(set(store_locator).intersection(column_names))"
     ],
     "language": "python",
     "metadata": {},
     "outputs": [],
     "prompt_number": 596
    },
    {
     "cell_type": "code",
     "collapsed": false,
     "input": [
      "appended['Post-Click Activity'] = appended[click_based].sum(axis=1)\n",
      "appended['Post-Impression Activity'] = appended[view_based].sum(axis=1)\n",
      "appended['Store Locator Visits'] = appended[store_locator].sum(axis=1)\n",
      "\n",
      "appended['Awareness Actions'] = appended['A Actions'] + appended['B Actions']\n",
      "appended['Consideration Actions'] = appended['C Actions'] + appended['D Actions']\n",
      "appended['Traffic Actions'] = appended['Awareness Actions'] + appended['Consideration Actions']"
     ],
     "language": "python",
     "metadata": {},
     "outputs": [],
     "prompt_number": 597
    },
    {
     "cell_type": "code",
     "collapsed": false,
     "input": [
      "appended['Creative Field 1'] = appended['Creative Field 1'].str.replace('Creative Type: ', '')\n",
      "\n",
      "appended['Creative Field 1'] = appended['Creative Field 1'].str.replace('(', '')\n",
      "appended['Creative Field 1'] = appended['Creative Field 1'].str.replace(')', '')\n",
      "appended['Creative Field 1'] = appended['Creative Field 1'].str.replace('not set', 'TMO Unique Creative')\n",
      "\n",
      "appended['Message Bucket'] = appended['Creative Field 1'].str.split('_').str.get(0)\n",
      "\n",
      "appended['Message Category'] = appended['Creative Field 1'].str.split('_').str.get(1)\n",
      "\n",
      "appended['Message Offer'] = appended['Creative Field 1'].str.split('_').str.get(2)\n",
      "appended['Message Offer'].fillna(appended['Creative Groups 2'], inplace=True)"
     ],
     "language": "python",
     "metadata": {},
     "outputs": [],
     "prompt_number": 598
    },
    {
     "cell_type": "code",
     "collapsed": false,
     "input": [
      "appended['Week'] = appended['Date'].min()\n",
      "appended['Video Completions'] = 0\n",
      "appended['Video Views'] = 0\n",
      "\n",
      "appended['F Tag'] = 0\n",
      "appended['F Actions'] = 0"
     ],
     "language": "python",
     "metadata": {},
     "outputs": [],
     "prompt_number": 599
    },
    {
     "cell_type": "code",
     "collapsed": false,
     "input": [
      "sa_columns = list(sa.columns)"
     ],
     "language": "python",
     "metadata": {},
     "outputs": [],
     "prompt_number": 600
    },
    {
     "cell_type": "code",
     "collapsed": false,
     "input": [
      "dimensions = ['Week', 'Date', 'Campaign', 'Site (DCM)', 'Click-through URL', 'F Tag', 'Message Bucket', 'Message Category', \n",
      "              'Message Offer', 'Creative', 'Ad', 'Creative Groups 1', 'Creative Groups 2', 'Creative ID', 'Creative Type', \n",
      "              'Creative Field 1', 'Placement', 'Placement Cost Structure']\n",
      "\n",
      "metrics = ['Media Cost', 'Impressions', 'Clicks', 'Orders', 'Plans', 'Add-a-Line', 'Activations', 'Devices', 'Services', 'Accessories',\n",
      "           'Prepaid Plans', 'Store Locator Visits', 'A Actions', 'B Actions', 'C Actions', 'D Actions', 'E Actions', 'F Actions', \n",
      "           'Awareness Actions', 'Consideration Actions', 'Traffic Actions', 'Post-Click Activity', 'Post-Impression Activity']"
     ],
     "language": "python",
     "metadata": {},
     "outputs": [],
     "prompt_number": 609
    },
    {
     "cell_type": "code",
     "collapsed": false,
     "input": [
      "action_tags = sa_columns[sa_columns.index('DBM Cost USD') + 1:]"
     ],
     "language": "python",
     "metadata": {},
     "outputs": [],
     "prompt_number": 610
    },
    {
     "cell_type": "code",
     "collapsed": false,
     "input": [
      "new_columns = dimensions + metrics + action_tags"
     ],
     "language": "python",
     "metadata": {},
     "outputs": [],
     "prompt_number": 611
    },
    {
     "cell_type": "code",
     "collapsed": false,
     "input": [
      "new_appended = appended[new_columns]"
     ],
     "language": "python",
     "metadata": {},
     "outputs": [],
     "prompt_number": 612
    },
    {
     "cell_type": "code",
     "collapsed": false,
     "input": [],
     "language": "python",
     "metadata": {},
     "outputs": [
      {
       "ename": "IOError",
       "evalue": "[Errno 13] Permission denied: 'C:/Users/aarschle1/Google Drive/Optimedia/T-Mobile/Projects/Weekly_Reporting/Opti_DFA_Weekly_Reporting.xlsm'",
       "output_type": "pyerr",
       "traceback": [
        "\u001b[1;31m---------------------------------------------------------------------------\u001b[0m\n\u001b[1;31mIOError\u001b[0m                                   Traceback (most recent call last)",
        "\u001b[1;32m<ipython-input-613-55524ae405d1>\u001b[0m in \u001b[0;36m<module>\u001b[1;34m()\u001b[0m\n\u001b[1;32m----> 1\u001b[1;33m \u001b[0mnew_appended\u001b[0m\u001b[1;33m.\u001b[0m\u001b[0mto_excel\u001b[0m\u001b[1;33m(\u001b[0m\u001b[0mwb\u001b[0m\u001b[1;33m.\u001b[0m\u001b[0mfullname\u001b[0m\u001b[1;33m,\u001b[0m \u001b[0msheet_name\u001b[0m \u001b[1;33m=\u001b[0m \u001b[1;34m'working'\u001b[0m\u001b[1;33m)\u001b[0m\u001b[1;33m\u001b[0m\u001b[0m\n\u001b[0m",
        "\u001b[1;32mC:\\Program Files\\Anaconda\\lib\\site-packages\\pandas\\util\\decorators.pyc\u001b[0m in \u001b[0;36mwrapper\u001b[1;34m(*args, **kwargs)\u001b[0m\n\u001b[0;32m     86\u001b[0m                 \u001b[1;32melse\u001b[0m\u001b[1;33m:\u001b[0m\u001b[1;33m\u001b[0m\u001b[0m\n\u001b[0;32m     87\u001b[0m                     \u001b[0mkwargs\u001b[0m\u001b[1;33m[\u001b[0m\u001b[0mnew_arg_name\u001b[0m\u001b[1;33m]\u001b[0m \u001b[1;33m=\u001b[0m \u001b[0mnew_arg_value\u001b[0m\u001b[1;33m\u001b[0m\u001b[0m\n\u001b[1;32m---> 88\u001b[1;33m             \u001b[1;32mreturn\u001b[0m \u001b[0mfunc\u001b[0m\u001b[1;33m(\u001b[0m\u001b[1;33m*\u001b[0m\u001b[0margs\u001b[0m\u001b[1;33m,\u001b[0m \u001b[1;33m**\u001b[0m\u001b[0mkwargs\u001b[0m\u001b[1;33m)\u001b[0m\u001b[1;33m\u001b[0m\u001b[0m\n\u001b[0m\u001b[0;32m     89\u001b[0m         \u001b[1;32mreturn\u001b[0m \u001b[0mwrapper\u001b[0m\u001b[1;33m\u001b[0m\u001b[0m\n\u001b[0;32m     90\u001b[0m     \u001b[1;32mreturn\u001b[0m \u001b[0m_deprecate_kwarg\u001b[0m\u001b[1;33m\u001b[0m\u001b[0m\n",
        "\u001b[1;32mC:\\Program Files\\Anaconda\\lib\\site-packages\\pandas\\core\\frame.pyc\u001b[0m in \u001b[0;36mto_excel\u001b[1;34m(self, excel_writer, sheet_name, na_rep, float_format, columns, header, index, index_label, startrow, startcol, engine, merge_cells, encoding, inf_rep)\u001b[0m\n\u001b[0;32m   1260\u001b[0m                                  startrow=startrow, startcol=startcol)\n\u001b[0;32m   1261\u001b[0m         \u001b[1;32mif\u001b[0m \u001b[0mneed_save\u001b[0m\u001b[1;33m:\u001b[0m\u001b[1;33m\u001b[0m\u001b[0m\n\u001b[1;32m-> 1262\u001b[1;33m             \u001b[0mexcel_writer\u001b[0m\u001b[1;33m.\u001b[0m\u001b[0msave\u001b[0m\u001b[1;33m(\u001b[0m\u001b[1;33m)\u001b[0m\u001b[1;33m\u001b[0m\u001b[0m\n\u001b[0m\u001b[0;32m   1263\u001b[0m \u001b[1;33m\u001b[0m\u001b[0m\n\u001b[0;32m   1264\u001b[0m     def to_stata(\n",
        "\u001b[1;32mC:\\Program Files\\Anaconda\\lib\\site-packages\\pandas\\io\\excel.pyc\u001b[0m in \u001b[0;36msave\u001b[1;34m(self)\u001b[0m\n\u001b[0;32m    576\u001b[0m         \u001b[0mSave\u001b[0m \u001b[0mworkbook\u001b[0m \u001b[0mto\u001b[0m \u001b[0mdisk\u001b[0m\u001b[1;33m.\u001b[0m\u001b[1;33m\u001b[0m\u001b[0m\n\u001b[0;32m    577\u001b[0m         \"\"\"\n\u001b[1;32m--> 578\u001b[1;33m         \u001b[1;32mreturn\u001b[0m \u001b[0mself\u001b[0m\u001b[1;33m.\u001b[0m\u001b[0mbook\u001b[0m\u001b[1;33m.\u001b[0m\u001b[0msave\u001b[0m\u001b[1;33m(\u001b[0m\u001b[0mself\u001b[0m\u001b[1;33m.\u001b[0m\u001b[0mpath\u001b[0m\u001b[1;33m)\u001b[0m\u001b[1;33m\u001b[0m\u001b[0m\n\u001b[0m\u001b[0;32m    579\u001b[0m \u001b[1;33m\u001b[0m\u001b[0m\n\u001b[0;32m    580\u001b[0m     \u001b[1;32mdef\u001b[0m \u001b[0mwrite_cells\u001b[0m\u001b[1;33m(\u001b[0m\u001b[0mself\u001b[0m\u001b[1;33m,\u001b[0m \u001b[0mcells\u001b[0m\u001b[1;33m,\u001b[0m \u001b[0msheet_name\u001b[0m\u001b[1;33m=\u001b[0m\u001b[0mNone\u001b[0m\u001b[1;33m,\u001b[0m \u001b[0mstartrow\u001b[0m\u001b[1;33m=\u001b[0m\u001b[1;36m0\u001b[0m\u001b[1;33m,\u001b[0m \u001b[0mstartcol\u001b[0m\u001b[1;33m=\u001b[0m\u001b[1;36m0\u001b[0m\u001b[1;33m)\u001b[0m\u001b[1;33m:\u001b[0m\u001b[1;33m\u001b[0m\u001b[0m\n",
        "\u001b[1;32mC:\\Program Files\\Anaconda\\lib\\site-packages\\openpyxl\\workbook\\workbook.pyc\u001b[0m in \u001b[0;36msave\u001b[1;34m(self, filename)\u001b[0m\n\u001b[0;32m    265\u001b[0m             \u001b[0msave_dump\u001b[0m\u001b[1;33m(\u001b[0m\u001b[0mself\u001b[0m\u001b[1;33m,\u001b[0m \u001b[0mfilename\u001b[0m\u001b[1;33m)\u001b[0m\u001b[1;33m\u001b[0m\u001b[0m\n\u001b[0;32m    266\u001b[0m         \u001b[1;32melse\u001b[0m\u001b[1;33m:\u001b[0m\u001b[1;33m\u001b[0m\u001b[0m\n\u001b[1;32m--> 267\u001b[1;33m             \u001b[0msave_workbook\u001b[0m\u001b[1;33m(\u001b[0m\u001b[0mself\u001b[0m\u001b[1;33m,\u001b[0m \u001b[0mfilename\u001b[0m\u001b[1;33m)\u001b[0m\u001b[1;33m\u001b[0m\u001b[0m\n\u001b[0m",
        "\u001b[1;32mC:\\Program Files\\Anaconda\\lib\\site-packages\\openpyxl\\writer\\excel.pyc\u001b[0m in \u001b[0;36msave_workbook\u001b[1;34m(workbook, filename)\u001b[0m\n\u001b[0;32m    183\u001b[0m     \"\"\"\n\u001b[0;32m    184\u001b[0m     \u001b[0mwriter\u001b[0m \u001b[1;33m=\u001b[0m \u001b[0mExcelWriter\u001b[0m\u001b[1;33m(\u001b[0m\u001b[0mworkbook\u001b[0m\u001b[1;33m)\u001b[0m\u001b[1;33m\u001b[0m\u001b[0m\n\u001b[1;32m--> 185\u001b[1;33m     \u001b[0mwriter\u001b[0m\u001b[1;33m.\u001b[0m\u001b[0msave\u001b[0m\u001b[1;33m(\u001b[0m\u001b[0mfilename\u001b[0m\u001b[1;33m)\u001b[0m\u001b[1;33m\u001b[0m\u001b[0m\n\u001b[0m\u001b[0;32m    186\u001b[0m     \u001b[1;32mreturn\u001b[0m \u001b[0mTrue\u001b[0m\u001b[1;33m\u001b[0m\u001b[0m\n\u001b[0;32m    187\u001b[0m \u001b[1;33m\u001b[0m\u001b[0m\n",
        "\u001b[1;32mC:\\Program Files\\Anaconda\\lib\\site-packages\\openpyxl\\writer\\excel.pyc\u001b[0m in \u001b[0;36msave\u001b[1;34m(self, filename)\u001b[0m\n\u001b[0;32m    165\u001b[0m     \u001b[1;32mdef\u001b[0m \u001b[0msave\u001b[0m\u001b[1;33m(\u001b[0m\u001b[0mself\u001b[0m\u001b[1;33m,\u001b[0m \u001b[0mfilename\u001b[0m\u001b[1;33m)\u001b[0m\u001b[1;33m:\u001b[0m\u001b[1;33m\u001b[0m\u001b[0m\n\u001b[0;32m    166\u001b[0m         \u001b[1;34m\"\"\"Write data into the archive.\"\"\"\u001b[0m\u001b[1;33m\u001b[0m\u001b[0m\n\u001b[1;32m--> 167\u001b[1;33m         \u001b[0marchive\u001b[0m \u001b[1;33m=\u001b[0m \u001b[0mZipFile\u001b[0m\u001b[1;33m(\u001b[0m\u001b[0mfilename\u001b[0m\u001b[1;33m,\u001b[0m \u001b[1;34m'w'\u001b[0m\u001b[1;33m,\u001b[0m \u001b[0mZIP_DEFLATED\u001b[0m\u001b[1;33m)\u001b[0m\u001b[1;33m\u001b[0m\u001b[0m\n\u001b[0m\u001b[0;32m    168\u001b[0m         \u001b[0mself\u001b[0m\u001b[1;33m.\u001b[0m\u001b[0mwrite_data\u001b[0m\u001b[1;33m(\u001b[0m\u001b[0marchive\u001b[0m\u001b[1;33m)\u001b[0m\u001b[1;33m\u001b[0m\u001b[0m\n\u001b[0;32m    169\u001b[0m         \u001b[0marchive\u001b[0m\u001b[1;33m.\u001b[0m\u001b[0mclose\u001b[0m\u001b[1;33m(\u001b[0m\u001b[1;33m)\u001b[0m\u001b[1;33m\u001b[0m\u001b[0m\n",
        "\u001b[1;32mC:\\Program Files\\Anaconda\\lib\\zipfile.pyc\u001b[0m in \u001b[0;36m__init__\u001b[1;34m(self, file, mode, compression, allowZip64)\u001b[0m\n\u001b[0;32m    754\u001b[0m             \u001b[0mmodeDict\u001b[0m \u001b[1;33m=\u001b[0m \u001b[1;33m{\u001b[0m\u001b[1;34m'r'\u001b[0m \u001b[1;33m:\u001b[0m \u001b[1;34m'rb'\u001b[0m\u001b[1;33m,\u001b[0m \u001b[1;34m'w'\u001b[0m\u001b[1;33m:\u001b[0m \u001b[1;34m'wb'\u001b[0m\u001b[1;33m,\u001b[0m \u001b[1;34m'a'\u001b[0m \u001b[1;33m:\u001b[0m \u001b[1;34m'r+b'\u001b[0m\u001b[1;33m}\u001b[0m\u001b[1;33m\u001b[0m\u001b[0m\n\u001b[0;32m    755\u001b[0m             \u001b[1;32mtry\u001b[0m\u001b[1;33m:\u001b[0m\u001b[1;33m\u001b[0m\u001b[0m\n\u001b[1;32m--> 756\u001b[1;33m                 \u001b[0mself\u001b[0m\u001b[1;33m.\u001b[0m\u001b[0mfp\u001b[0m \u001b[1;33m=\u001b[0m \u001b[0mopen\u001b[0m\u001b[1;33m(\u001b[0m\u001b[0mfile\u001b[0m\u001b[1;33m,\u001b[0m \u001b[0mmodeDict\u001b[0m\u001b[1;33m[\u001b[0m\u001b[0mmode\u001b[0m\u001b[1;33m]\u001b[0m\u001b[1;33m)\u001b[0m\u001b[1;33m\u001b[0m\u001b[0m\n\u001b[0m\u001b[0;32m    757\u001b[0m             \u001b[1;32mexcept\u001b[0m \u001b[0mIOError\u001b[0m\u001b[1;33m:\u001b[0m\u001b[1;33m\u001b[0m\u001b[0m\n\u001b[0;32m    758\u001b[0m                 \u001b[1;32mif\u001b[0m \u001b[0mmode\u001b[0m \u001b[1;33m==\u001b[0m \u001b[1;34m'a'\u001b[0m\u001b[1;33m:\u001b[0m\u001b[1;33m\u001b[0m\u001b[0m\n",
        "\u001b[1;31mIOError\u001b[0m: [Errno 13] Permission denied: 'C:/Users/aarschle1/Google Drive/Optimedia/T-Mobile/Projects/Weekly_Reporting/Opti_DFA_Weekly_Reporting.xlsm'"
       ]
      }
     ],
     "prompt_number": 613
    },
    {
     "cell_type": "code",
     "collapsed": false,
     "input": [],
     "language": "python",
     "metadata": {},
     "outputs": []
    }
   ],
   "metadata": {}
  }
 ]
}