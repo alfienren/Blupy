{
 "metadata": {
  "name": "",
  "signature": "sha256:a99a074cc0b5e32c51741542321b2a85bc04224c4aaa34e351adc490289fbf7e"
 },
 "nbformat": 3,
 "nbformat_minor": 0,
 "worksheets": [
  {
   "cells": [
    {
     "cell_type": "code",
     "collapsed": false,
     "input": [
      "import pandas as pd\n",
      "import numpy as np\n",
      "from xlwings import Workbook, Range\n",
      "import re\n",
      "import itertools\n",
      "from operator import add"
     ],
     "language": "python",
     "metadata": {},
     "outputs": [],
     "prompt_number": 192
    },
    {
     "cell_type": "code",
     "collapsed": false,
     "input": [
      "wb = Workbook(\"C:/Users/aarschle1/Google Drive/Optimedia/T-Mobile/Projects/Weekly_Reporting/Opti_DFA_Weekly_Reporting.xlsm\")"
     ],
     "language": "python",
     "metadata": {},
     "outputs": [],
     "prompt_number": 2
    },
    {
     "cell_type": "code",
     "collapsed": false,
     "input": [
      "sa2 = pd.DataFrame(pd.read_excel(wb.fullname, 'SA_Temp', index_col = None))\n",
      "#cfv2 = pd.DataFrame(pd.read_excel(wb.fullname, 'CFV_Temp', index_col = None))\n",
      "\n",
      "cfv2 = pd.DataFrame(Range('CFV_Temp', 'A1').table.value, columns = Range('CFV_Temp', 'A1').horizontal.value)\n",
      "cfv2.drop(0, inplace=True)"
     ],
     "language": "python",
     "metadata": {},
     "outputs": [],
     "prompt_number": 102
    },
    {
     "cell_type": "code",
     "collapsed": false,
     "input": [
      "def chunk_df(df, sheet, startcell, chunk_size = 100):\n",
      "    if len(df) <= (chunk_size + 1):\n",
      "        Range(sheet, startcell, index = False, header = True).value = df\n",
      "    else:\n",
      "        Range(sheet, startcell, index = False).value = list(df.columns)\n",
      "        c = re.match(r\"([a-z]+)([0-9]+)\", startcell[0] + str(int(startcell[1]) + 1), re.I)\n",
      "        row = c.group(1)\n",
      "        col = int(c.group(2))\n",
      "        \n",
      "        for chunk in (df[rw:rw + chunk_size] for rw in \n",
      "                      range(0, len(df), chunk_size)):\n",
      "            Range(sheet, row + str(col), index = False, header = False).value = chunk\n",
      "            col += chunk_size"
     ],
     "language": "python",
     "metadata": {},
     "outputs": [],
     "prompt_number": 103
    },
    {
     "cell_type": "code",
     "collapsed": false,
     "input": [
      "sa = sa2\n",
      "cfv = cfv2"
     ],
     "language": "python",
     "metadata": {},
     "outputs": [],
     "prompt_number": 227
    },
    {
     "cell_type": "code",
     "collapsed": false,
     "input": [
      "cfv['Orders'] = 1\n",
      "cfv['Plans'] = cfv['Plan (string)'].str.count(',') + 1\n",
      "cfv['Devices'] = cfv['Device (string)'].str.count(',') + 1\n",
      "cfv['Services'] = cfv['Service (string)'].str.count(',') + 1\n",
      "cfv['Add-a-Line'] = cfv['Service (string)'].str.count('ADD')\n",
      "cfv['Accessories'] = cfv['Accessory (string)'].str.count(',') + 1\n",
      "cfv['Activations'] = cfv['Plans'] + cfv['Add-a-Line']\n",
      "\n",
      "cfv['Postpaid Plans'] = np.where(cfv['Plans'] == cfv['Devices'], cfv['Plans'], pd.concat([cfv['Plans'], cfv['Devices']], axis=1).min(axis=1))\n",
      "cfv['Prepaid Plans'] = np.where((cfv['Plans'] == 0) & (cfv['Devices'] != 0), 0, cfv['Devices'])"
     ],
     "language": "python",
     "metadata": {},
     "outputs": [],
     "prompt_number": 228
    },
    {
     "cell_type": "code",
     "collapsed": false,
     "input": [
      "cfv['Device IDs'] = cfv['Device (string)'].str.split(',')\n",
      "cfv['Device IDs'].dropna(inplace = True)\n",
      "devices = list(itertools.chain(*cfv['Device IDs']))\n",
      "while '' in devices: devices.remove('')\n",
      "pd.value_counts(pd.Series(devices).values, sort = True)[0:15]"
     ],
     "language": "python",
     "metadata": {},
     "outputs": [
      {
       "metadata": {},
       "output_type": "pyout",
       "prompt_number": 239,
       "text": [
        "610214635235    81\n",
        "610214633644    73\n",
        "610214633651    52\n",
        "610214693839    44\n",
        "610214635136    37\n",
        "610214635242    31\n",
        "610214632333    25\n",
        "610214633637    23\n",
        "610214633996    17\n",
        "610214638090    16\n",
        "MG562LL/A       15\n",
        "MG552LL/A       15\n",
        "MGC12LL/A       12\n",
        "MG542LL/A       11\n",
        "MG5A2LL/A       11\n",
        "dtype: int64"
       ]
      }
     ],
     "prompt_number": 239
    },
    {
     "cell_type": "code",
     "collapsed": false,
     "input": [],
     "language": "python",
     "metadata": {},
     "outputs": []
    }
   ],
   "metadata": {}
  }
 ]
}