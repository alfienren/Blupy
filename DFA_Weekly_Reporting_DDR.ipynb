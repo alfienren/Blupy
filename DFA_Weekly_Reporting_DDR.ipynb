{
 "metadata": {
  "name": "",
  "signature": "sha256:619d37638301cb3eab22cd1e1a2c60ec11b0895f765c9656096c980fcf72793f"
 },
 "nbformat": 3,
 "nbformat_minor": 0,
 "worksheets": [
  {
   "cells": [
    {
     "cell_type": "code",
     "collapsed": false,
     "input": [
      "import pandas as pd\n",
      "import numpy as np\n",
      "from xlwings import Workbook, Range\n",
      "import re\n",
      "import itertools\n",
      "import html5lib\n",
      "import requests\n",
      "from bs4 import BeautifulSoup\n",
      "import lxml\n",
      "import urllib"
     ],
     "language": "python",
     "metadata": {},
     "outputs": [],
     "prompt_number": 1
    },
    {
     "cell_type": "code",
     "collapsed": false,
     "input": [
      "wb = Workbook(\"C:/Users/aarschle1/Google Drive/Optimedia/T-Mobile/Projects/Weekly_Reporting/Opti_DFA_Weekly_Reporting.xlsm\")"
     ],
     "language": "python",
     "metadata": {},
     "outputs": [],
     "prompt_number": 2
    },
    {
     "cell_type": "code",
     "collapsed": false,
     "input": [
      "sa2 = pd.DataFrame(pd.read_excel(wb.fullname, 'SA_Temp', index_col = None))\n",
      "#cfv2 = pd.DataFrame(pd.read_excel(wb.fullname, 'CFV_Temp', index_col = None))\n",
      "\n",
      "cfv2 = pd.DataFrame(Range('CFV_Temp', 'A1').table.value, columns = Range('CFV_Temp', 'A1').horizontal.value)\n",
      "cfv2.drop(0, inplace=True)"
     ],
     "language": "python",
     "metadata": {},
     "outputs": [],
     "prompt_number": 3
    },
    {
     "cell_type": "code",
     "collapsed": false,
     "input": [
      "def chunk_df(df, sheet, startcell, chunk_size = 100):\n",
      "    if len(df) <= (chunk_size + 1):\n",
      "        Range(sheet, startcell, index = False, header = True).value = df\n",
      "    else:\n",
      "        Range(sheet, startcell, index = False).value = list(df.columns)\n",
      "        c = re.match(r\"([a-z]+)([0-9]+)\", startcell[0] + str(int(startcell[1]) + 1), re.I)\n",
      "        row = c.group(1)\n",
      "        col = int(c.group(2))\n",
      "        \n",
      "        for chunk in (df[rw:rw + chunk_size] for rw in \n",
      "                      range(0, len(df), chunk_size)):\n",
      "            Range(sheet, row + str(col), index = False, header = False).value = chunk\n",
      "            col += chunk_size"
     ],
     "language": "python",
     "metadata": {},
     "outputs": [],
     "prompt_number": 4
    },
    {
     "cell_type": "code",
     "collapsed": false,
     "input": [
      "sa = sa2\n",
      "cfv = cfv2"
     ],
     "language": "python",
     "metadata": {},
     "outputs": [],
     "prompt_number": 5
    },
    {
     "cell_type": "code",
     "collapsed": false,
     "input": [
      "cfv['Orders'] = 1\n",
      "\n",
      "cfv['Plans'] = np.where(cfv['Plan (string)'] != '', cfv['Plan (string)'].str.count(',') + 1, 0)\n",
      "cfv['Services'] = np.where(cfv['Service (string)'] != '', cfv['Service (string)'].str.count(',') + 1, 0)\n",
      "cfv['Accessories'] = np.where(cfv['Accessory (string)'] != '', cfv['Accessory (string)'].str.count(',') + 1, 0)\n",
      "cfv['Devices'] = np.where(cfv['Device (string)'] != '', cfv['Device (string)'].str.count(',') + 1, 0)\n",
      "cfv['Add-a-Line'] = cfv['Service (string)'].str.count('ADD')\n",
      "cfv['Activations'] = cfv['Plans'] + cfv['Add-a-Line']\n",
      "\n",
      "#cfv['Plans'] = cfv['Plan (string)'].str.count(',') + 1\n",
      "#cfv['Devices'] = cfv['Device (string)'].str.count(',') + 1\n",
      "#cfv['Services'] = cfv['Service (string)'].str.count(',') + 1\n",
      "#cfv['Accessories'] = cfv['Accessory (string)'].str.count(',') + 1\n",
      "\n",
      "cfv['Postpaid Plans'] = np.where(cfv['Plans'] == cfv['Devices'], cfv['Plans'], pd.concat([cfv['Plans'], cfv['Devices']], axis=1).min(axis=1))\n",
      "cfv['Prepaid Plans'] = np.where((cfv['Plans'] == 0) & (cfv['Devices'] != 0), 0, cfv['Devices'])\n",
      "\n",
      "cfv['eGAs'] = np.where(cfv['Floodlight Attribution Type'].str.contains('View-through') == True,\n",
      "                            (cfv['Device (string)'].str.count(',') + 1) / 2,\n",
      "                            cfv['Device (string)'].str.count(',') + 1)"
     ],
     "language": "python",
     "metadata": {},
     "outputs": [],
     "prompt_number": 8
    },
    {
     "cell_type": "code",
     "collapsed": false,
     "input": [
      "devices = cfv['Device (string)'].str.split(',').apply(pd.Series).stack()"
     ],
     "language": "python",
     "metadata": {},
     "outputs": [],
     "prompt_number": 9
    },
    {
     "cell_type": "code",
     "collapsed": false,
     "input": [
      "devices.index = devices.index.droplevel(-1)\n",
      "devices.name = \"Device IDs\""
     ],
     "language": "python",
     "metadata": {},
     "outputs": [],
     "prompt_number": 10
    },
    {
     "cell_type": "code",
     "collapsed": false,
     "input": [
      "cfv_new = cfv[cfv.columns[0:17]].join(devices)\n",
      "cfv_new = cfv.append(cfv_new)"
     ],
     "language": "python",
     "metadata": {},
     "outputs": [],
     "prompt_number": 11
    },
    {
     "cell_type": "code",
     "collapsed": false,
     "input": [
      "ddr = pd.DataFrame(pd.read_csv('C:/Users/aarschle1/Google Drive/Optimedia/T-Mobile/Projects/Weekly_Reporting/devices_feed.csv'))"
     ],
     "language": "python",
     "metadata": {},
     "outputs": [],
     "prompt_number": 12
    },
    {
     "cell_type": "code",
     "collapsed": false,
     "input": [
      "merged = pd.merge(cfv_new, ddr, how = 'left', left_on = 'Device IDs', right_on = 'Device SKU')"
     ],
     "language": "python",
     "metadata": {},
     "outputs": [],
     "prompt_number": 13
    },
    {
     "cell_type": "code",
     "collapsed": false,
     "input": [
      "Range('data', 'A1', index = False).value = merged"
     ],
     "language": "python",
     "metadata": {},
     "outputs": [],
     "prompt_number": 40
    },
    {
     "cell_type": "heading",
     "level": 2,
     "metadata": {},
     "source": [
      "Calculations"
     ]
    },
    {
     "cell_type": "code",
     "collapsed": false,
     "input": [
      "merged['Prepaid GAs'] = np.where((merged['Product Subcategory'].str.contains('Prepaid') == True) & \n",
      "                                 (merged['Floodlight Attribution Type'].str.contains('View-through') == True), 0.5,\n",
      "                                  np.where(merged['Product Subcategory'].str.contains('Prepaid') == True, 1, 0))"
     ],
     "language": "python",
     "metadata": {},
     "outputs": [],
     "prompt_number": 20
    },
    {
     "cell_type": "code",
     "collapsed": false,
     "input": [
      "merged['Postpaid GAs'] = np.where((merged['Product Subcategory'].str.contains('Postpaid') == True) &\n",
      "                                  (merged['Floodlight Attribution Type'].str.contains('View-through') == True), 0.5,\n",
      "                                  np.where(merged['Product Subcategory'].str.contains('Postpaid') == True, 1, 0))"
     ],
     "language": "python",
     "metadata": {},
     "outputs": [],
     "prompt_number": 21
    },
    {
     "cell_type": "code",
     "collapsed": false,
     "input": [
      "merged['Prepaid SIMs'] = np.where((merged['Product Category'].str.contains('SIM card') == True) & \n",
      "                                  (merged['Product Subcategory'].str.contains('Prepaid') == True) &\n",
      "                                  (merged['Floodlight Attribution Type'].str.contains('View-through') == True), 0.5,\n",
      "                                  np.where((merged['Product Category'].str.contains('SIM card') == True) & \n",
      "                                           (merged['Product Subcategory'].str.contains('Prepaid') == True), 1, 0))"
     ],
     "language": "python",
     "metadata": {},
     "outputs": [],
     "prompt_number": 27
    },
    {
     "cell_type": "code",
     "collapsed": false,
     "input": [
      "merged['Postpaid SIMs'] = np.where((merged['Product Category'].str.contains('SIM card') == True) & \n",
      "                                   (merged['Floodlight Attribution Type'].str.contains('View-through') == True) & \n",
      "                                   (merged['Product Subcategory'].str.contains('Postpaid') == True), 0.5,\n",
      "                                   np.where((merged['Product Category'].str.contains('SIM card') == True) & \n",
      "                                            (merged['Product Subcategory'].str.contains('Postpaid') == True), 1, 0))"
     ],
     "language": "python",
     "metadata": {},
     "outputs": [],
     "prompt_number": 29
    },
    {
     "cell_type": "code",
     "collapsed": false,
     "input": [
      "merged['Prepaid Mobile Internet'] = np.where((merged['Product Category'].str.contains('Mobile Internet') == True) & \n",
      "                                             (merged['Product Subcategory'].str.contains('Prepaid') == True) & \n",
      "                                             (merged['Floodlight Attribution Type'].str.contains('View-through') == True), 0.5,\n",
      "                                             np.where((merged['Product Category'].str.contains('Mobile Internet') == True) & \n",
      "                                                      (merged['Product Subcategory'].str.contains('Prepaid') == True), 1, 0))"
     ],
     "language": "python",
     "metadata": {},
     "outputs": [],
     "prompt_number": 30
    },
    {
     "cell_type": "code",
     "collapsed": false,
     "input": [
      "merged['Postpaid Mobile Internet'] = np.where((merged['Product Category'].str.contains('Mobile Internet') == True) & \n",
      "                                              (merged['Product Subcategory'].str.contains('Postpaid') == True) & \n",
      "                                              (merged['Floodlight Attribution Type'].str.contains('View-through') == True), 0.5,\n",
      "                                              np.where((merged['Product Category'].str.contains('Mobile Internet') == True) & \n",
      "                                                       (merged['Product Subcategory'].str.contains('Postpaid') == True), 1, 0))"
     ],
     "language": "python",
     "metadata": {},
     "outputs": [],
     "prompt_number": 32
    },
    {
     "cell_type": "code",
     "collapsed": false,
     "input": [
      "merged['Prepaid Phone'] = np.where((merged['Product Category'].str.contains('Smartphone') == True) & \n",
      "                                   (merged['Product Subcategory'].str.contains('Prepaid') == True) & \n",
      "                                   (merged['Floodlight Attribution Type'].str.contains('View-through') == True), 0.5, \n",
      "                                   np.where((merged['Product Category'].str.contains('Smartphone') == True) & \n",
      "                                            (merged['Product Subcategory'].str.contains('Prepaid') == True), 1, 0))"
     ],
     "language": "python",
     "metadata": {},
     "outputs": [],
     "prompt_number": 33
    },
    {
     "cell_type": "code",
     "collapsed": false,
     "input": [
      "merged['Postpaid Phone'] = np.where((merged['Product Category'].str.contains('Smartphone') == True) & \n",
      "                                    (merged['Product Subcategory'].str.contains('Postpaid') == True) & \n",
      "                                    (merged['Floodlight Attribution Type'].str.contains('View-through') == True), 0.5, \n",
      "                                    np.where((merged['Product Category'].str.contains('Smartphone') == True) & \n",
      "                                             (merged['Product Subcategory'].str.contains('Postpaid') == True), 1, 0))"
     ],
     "language": "python",
     "metadata": {},
     "outputs": [],
     "prompt_number": 34
    },
    {
     "cell_type": "code",
     "collapsed": false,
     "input": [
      "merged['DDR New Devices'] = np.where((merged['Device IDs'].notnull() == True) & \n",
      "                                 (merged['Activity'].str.contains('New TMO Order') == True) &\n",
      "                                 (merged['Floodlight Attribution Type'].str.contains('View-through') == True), 0.5,\n",
      "                                 np.where((merged['Device IDs'].notnull() == True) & \n",
      "                                          (merged['Activity'].str.contains('New TMO Order') == True), 1, 0))"
     ],
     "language": "python",
     "metadata": {},
     "outputs": [],
     "prompt_number": 37
    },
    {
     "cell_type": "code",
     "collapsed": false,
     "input": [
      "merged['DDR Add-a-Line'] = np.where((merged['Device IDs'].notnull() == True) & \n",
      "                                    (merged['Activity'].str.contains('New My.TMO Order') == True) & \n",
      "                                    (merged['Floodlight Attribution Type'].str.contains('View-through') == True), 0.5,\n",
      "                                     np.where((merged['Device IDs'].notnull() == True) &\n",
      "                                              (merged['Activity'].str.contains('New My.TMO Order') == True), 1, 0))"
     ],
     "language": "python",
     "metadata": {},
     "outputs": [],
     "prompt_number": 39
    },
    {
     "cell_type": "heading",
     "level": 2,
     "metadata": {},
     "source": [
      "Top 15 Device Count"
     ]
    },
    {
     "cell_type": "code",
     "collapsed": false,
     "input": [
      "ddr_devices = pd.Series(list(np.where(cfv['Campaign'].str.contains('DDR') == True, cfv['Device IDs'], np.NaN)))\n",
      "ddr_devices.dropna(inplace = True)\n",
      "ddr_devices = list(itertools.chain(*ddr_devices))\n",
      "while '' in ddr_devices: ddr_devices.remove('')\n",
      "pd.value_counts(pd.Series(ddr_devices).values, sort = True)[0:15]"
     ],
     "language": "python",
     "metadata": {},
     "outputs": [
      {
       "metadata": {},
       "output_type": "pyout",
       "prompt_number": 77,
       "text": [
        "610214635235    48\n",
        "610214633644    46\n",
        "610214633651    28\n",
        "610214693839    23\n",
        "610214635242    21\n",
        "610214635136    21\n",
        "610214633637    16\n",
        "610214632333    15\n",
        "MG552LL/A       11\n",
        "MG562LL/A       11\n",
        "610214633996    10\n",
        "610214638090     9\n",
        "MG542LL/A        8\n",
        "610214637154     8\n",
        "MGC12LL/A        7\n",
        "dtype: int64"
       ]
      }
     ],
     "prompt_number": 77
    }
   ],
   "metadata": {}
  }
 ]
}